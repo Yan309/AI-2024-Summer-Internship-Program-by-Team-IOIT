{
 "cells": [
  {
   "cell_type": "code",
   "execution_count": 1,
   "metadata": {},
   "outputs": [
    {
     "name": "stdout",
     "output_type": "stream",
     "text": [
      "File converted and saved to emotio_data.csv\n"
     ]
    }
   ],
   "source": [
    "import pandas as pd\n",
    "\n",
    "# Path to the text file\n",
    "text_file_path = '2018-E-c-En-train.txt'\n",
    "csv_file_path = 'emotion_data.csv'\n",
    "\n",
    "# Read the text file content\n",
    "with open(text_file_path, 'r', encoding='utf-8') as file:\n",
    "    lines = file.readlines()\n",
    "\n",
    "# Split the header and rows\n",
    "header = lines[0].strip().split('\\t')\n",
    "rows = [line.strip().split('\\t') for line in lines[1:]]\n",
    "\n",
    "# Create a DataFrame\n",
    "df = pd.DataFrame(rows, columns=header)\n",
    "\n",
    "# Save DataFrame to CSV\n",
    "df.to_csv(csv_file_path, index=False)\n",
    "\n",
    "print(f\"File converted and saved to {csv_file_path}\")\n"
   ]
  },
  {
   "cell_type": "code",
   "execution_count": 3,
   "metadata": {},
   "outputs": [],
   "source": [
    "import pandas as pd\n",
    "# Load the provided CSV file\n",
    "file_path = 'emotion_data.csv'\n",
    "df = pd.read_csv(file_path)\n",
    "\n",
    "# Sample 10 examples from each category with medium to large text\n",
    "sampled_df = pd.DataFrame()\n",
    "for column in df.columns[2:]:  # Exclude ID and Tweet columns\n",
    "    category_samples = df[df[column] == 1].sample(n=10, random_state=42)\n",
    "    sampled_df = pd.concat([sampled_df, category_samples])\n",
    "\n",
    "# Remove duplicate samples\n",
    "sampled_df = sampled_df.drop_duplicates(subset=['ID', 'Tweet'])\n",
    "\n",
    "# Save the sampled data to a new CSV file\n",
    "sampled_file_path = 'sampled_emotion_data.csv'\n",
    "sampled_df.to_csv(sampled_file_path, index=False)"
   ]
  },
  {
   "cell_type": "code",
   "execution_count": null,
   "metadata": {},
   "outputs": [],
   "source": []
  }
 ],
 "metadata": {
  "kernelspec": {
   "display_name": "Python 3",
   "language": "python",
   "name": "python3"
  },
  "language_info": {
   "codemirror_mode": {
    "name": "ipython",
    "version": 3
   },
   "file_extension": ".py",
   "mimetype": "text/x-python",
   "name": "python",
   "nbconvert_exporter": "python",
   "pygments_lexer": "ipython3",
   "version": "3.10.0"
  }
 },
 "nbformat": 4,
 "nbformat_minor": 2
}
