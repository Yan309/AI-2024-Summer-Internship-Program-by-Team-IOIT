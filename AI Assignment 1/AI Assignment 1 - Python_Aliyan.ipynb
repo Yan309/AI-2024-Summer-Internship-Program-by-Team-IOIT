{
 "cells": [
  {
   "cell_type": "markdown",
   "metadata": {},
   "source": [
    "Name: M.Aliyan\n",
    "\n",
    "Email: fa21-bcs-105@cuilahore.edu.pk"
   ]
  },
  {
   "cell_type": "markdown",
   "metadata": {},
   "source": [
    "<h1 align=\"center\">AI 2024 Online Summer Internship</h1>\n",
    "\n",
    "<h1 align=\"center\">Make Your Place in Top 20% AI Engineers of the World</h1>"
   ]
  },
  {
   "cell_type": "markdown",
   "metadata": {},
   "source": [
    "## Data Understanding and Preprocessing using Python and Pandas"
   ]
  },
  {
   "cell_type": "markdown",
   "metadata": {},
   "source": [
    "## Goals of this tutorial\n",
    "The goals of this tutorial are to provide easy to understand, step-by-step instructions so that a beginner user can learn to use Python to write programs. Also, the tutorial explores the use of Pandas library as a way for exploratory data analysis using the Python programming language.\n",
    "\n",
    "- **Introduce the basics of programming with Python**, and some skills useful in practice.\n",
    "- **Introduce the syntax and usage of Pandas**, so that you can make use of the rich data analysis toolset available."
   ]
  },
  {
   "cell_type": "markdown",
   "metadata": {},
   "source": [
    "## Table of contents\n",
    "\n",
    "### 1. [Introduction](#intro)\n",
    "### 2. [Required software and libraries](#libs)\n",
    "### 3. [How to run Python code](#run)   \n",
    "   **3.1  [The Python Interpreter](#pi)   \n",
    "   3.2  [The IPython Interpreter](#ip)   \n",
    "   3.3  [Self-contained Python scripts](#ps)   \n",
    "   3.4  [The Jupyter Notebook](#jn)**\n",
    "### 4. [Writing programs with Python](#prg)\n",
    "   **4.1  [Data types and Variables](#vars)   \n",
    "        4.1.1  [Number types](#nums)   \n",
    "        4.1.2  [Comments](#comments)   \n",
    "        4.1.3  [Strings](#strings)<br>\n",
    "     4.2  [Decisions](#if-else)<br>\n",
    "        4.2.1  [Relational operators](#rel-ops)<br>\n",
    "     4.3  [Loops](#loops)<br>\n",
    "     4.4  [Lists](#lists)<br>\n",
    "     4.5  [Sets](#sets)<br>\n",
    "     4.6  [Dictionaries](#dict)<br>\n",
    "     4.7  [Tuples](#tuples)<br>\n",
    "     4.8  [Functions](#func)<br>\n",
    "     4.9  [Lambda functions](#lambda)<br>\n",
    "         4.9.1  [Map function](#map)<br>\n",
    "         4.9.2  [Filter function](#filter)<br>\n",
    "     5.0  [File I/O](#io)<br>**\n",
    "\n",
    "### 5.[Introduction to Pandas](#pandas)\n",
    "   **5.1  [Installation](#pandas-install)   \n",
    "     5.2  [Getting started with pandas](#load)<br>\n",
    "     5.3  [Introduction to pandas data structures](#pandas-ds)<br>\n",
    "         5.3.1  [The Pandas Series object](#series)<br>\n",
    "             5.3.1.1  [Series as generalized NumPy array](#series-np)<br>\n",
    "             5.3.1.2  [Series as as specialized dictionary](#series-dict)<br>\n",
    "             5.3.1.3  [Constructing Series objects](#series-obj)<br>\n",
    "         5.3.2  [The Pandas DataFrame object](#df)<br>\n",
    "             5.3.2.1  [DataFrame as a generalized NumPy array](#df-np)<br>\n",
    "             5.3.2.2  [DataFrame as specialized dictionary](#df-dict)<br>\n",
    "             5.3.2.3  [Constructing DataFrame objects](#df-obj)<br>\n",
    "         5.3.3  [Data Indexing and Selection](#index)<br>\n",
    "             5.3.3.1  [Data Selection in Series](#series-select)<br>\n",
    "             5.3.3.2  [Data Selection in DataFrame](#df-select)<br>**\n",
    "                      \n",
    "### 6. [Further reading](#read) "
   ]
  },
  {
   "cell_type": "markdown",
   "metadata": {},
   "source": [
    "<a id=\"intro\"></a>\n",
    "## 1. Introduction\n",
    "\n",
    "[[ Go back to the top ]](#Table-of-contents)\n",
    "\n",
    "Created in 1980s primarily as a teaching and scripting language, Python has since become an essential tool for many programmers, engineers, researchers, and data scientists across academia and industry.\n",
    "\n",
    "The appeal of Python is in its simplicity, as well as the convenience of the large ecosystem of domain-specific tools that have been built on top of it.\n",
    "For example, most of the Python code in scientific computing and data science is built around a group of mature and useful packages:\n",
    "\n",
    "- [NumPy](http://numpy.org) provides efficient storage and computation for multi-dimensional data arrays.\n",
    "- [SciPy](http://scipy.org) contains a wide array of numerical tools such as numerical integration and interpolation.\n",
    "- [Pandas](http://pandas.pydata.org) provides a DataFrame object along with a powerful set of methods to manipulate, filter, group, and transform data.\n",
    "- [Matplotlib](http://matplotlib.org) provides a useful interface for creation of publication-quality plots and figures.\n",
    "- [Scikit-Learn](http://scikit-learn.org) provides a uniform toolkit for applying common machine learning algorithms to data.\n",
    "- [IPython/Jupyter](http://jupyter.org) provides an enhanced terminal and an interactive notebook environment that is useful for exploratory analysis, as well as creation of interactive, executable documents. \n",
    "\n",
    "No less important are the numerous other tools and packages which accompany these: if there is a scientific or data analysis task you want to perform, chances are someone has written a package that will do it for you.\n",
    "\n",
    "The primary goal of this tutorial is to provide a solid foundation for users to become familiar working with Python and the Pandas library. Therefore, the first part of this tutorial explains how to do programming in Python. The second half details working with the Pandas library. Both of these topics are reinforced with the use of examples.  "
   ]
  },
  {
   "cell_type": "markdown",
   "metadata": {},
   "source": [
    "<a id=\"libs\"></a>\n",
    "## 2. Required software and libraries\n",
    "\n",
    "[[ Go back to the top ]](#Table-of-contents)\n",
    "\n",
    "The software required to work through this tutorial includes the following:\n",
    "\n",
    "1. To install Python and all required libraries including Pandas, you can use the [Anaconda Python distribution](https://www.anaconda.com/download/). Anaconda provides a simple double-click installer for your convenience.\n",
    "\n",
    "\tThis notebook uses Python packages that come standard with the Anaconda Python distribution, so no additional installation will be required except the Anaconda distribution itself.\n",
    "\n",
    "\n",
    "2. Secondly, to convert this or any Jupyter Notebook to PDF (Portable Document Format), we would also need to install a [LaTeX](https://www.latex-project.org/) distribution. This step is **OPTIONAL** and is only needed if a Jupyter Notebook is to be converted into a PDF document. LaTeX is a document preparation system used extensively for the preparation of technical and scientific documents. The reader does not need to be familiar with LaTeX to work through this tutorial.\n",
    "\n",
    "\tIf LaTeX is required to be installed, then there are many LaTeX distributions available, and the [MiKTeX distribution](https://miktex.org/download) is one popular option. Installation is simple and default options are all that are needed."
   ]
  },
  {
   "cell_type": "markdown",
   "metadata": {},
   "source": [
    "<a id=\"run\"></a>\n",
    "## 3. How to run Python code\n",
    "[[ Go back to the top ]](#Table-of-contents)\n",
    "\n",
    "Python is a flexible language, and there are several ways to use it depending on your particular task.\n",
    "One thing that distinguishes Python from other programming languages is that it is *interpreted* rather than *compiled*.\n",
    "This means that it is executed line by line, which allows programming to be interactive in a way that is not directly possible with compiled languages like Fortran, C, or Java. This section will describe four primary ways you can run Python code: the *Python interpreter*, the *IPython interpreter*, via *Self-contained Scripts*, or in the *Jupyter notebook*.\n",
    "\n",
    "<a id=\"pi\"></a>\n",
    "### 3.1 The Python Interpreter\n",
    "\n",
    "The most basic way to execute Python code is line by line within the *Python interpreter*.\n",
    "The Python interpreter can be started by installing the Python language (see the previous section) and typing ``python`` at the command prompt (look for the Terminal on Mac OS X and Unix/Linux systems, or the Command Prompt application in Windows):\n",
    "```\n",
    "$ python\n",
    "Python 3.6.6 |Anaconda custom (64-bit)| (default, Jun  28 2018, 11:24:55)\n",
    "Type \"help\", \"copyright\", \"credits\" or \"license\" for more information.\n",
    ">>>\n",
    "```\n",
    "With the interpreter running, you can begin to type and execute code snippets.\n",
    "Here we'll use the interpreter as a simple calculator, performing calculations and assigning values to variables:\n",
    "``` python\n",
    ">>> 1 + 1\n",
    "2\n",
    ">>> number = 5\n",
    ">>> number * 3\n",
    "15\n",
    "```\n",
    "\n",
    "The interpreter makes it very convenient to try out small snippets of Python code and to experiment with short sequences of operations.\n",
    "\n",
    "<a id=\"ip\"></a>\n",
    "### 3.2 The IPython interpreter\n",
    "\n",
    "If you spend much time with the basic Python interpreter, you'll find that it lacks many of the features of a full-fledged interactive development environment.\n",
    "An alternative interpreter called *IPython* (for Interactive Python) is bundled with the Anaconda distribution, and includes a host of convenient enhancements to the basic Python interpreter.\n",
    "It can be started by typing ``ipython`` at the command prompt:\n",
    "```\n",
    "$ ipython\n",
    "Python 3.6.6 |Anaconda custom (64-bit)| (default, Jun  28 2018, 11:24:55) \n",
    "Type \"copyright\", \"credits\" or \"license\" for more information.\n",
    "IPython 6.5.0 -- An enhanced Interactive Python. Type '?' for help.\n",
    "\n",
    "In [1]: \n",
    "```\n",
    "The main aesthetic difference between the Python interpreter and the enhanced IPython interpreter lies in the command prompt: Python uses ``>>>`` by default, while IPython uses numbered commands (e.g. ``In [1]:``).\n",
    "Regardless, we can execute code line by line just as we did before:\n",
    "ipython\n",
    "In [1]: 1 + 1\n",
    "Out[1]: 2\n",
    "\n",
    "In [2]: number2 = 5\n",
    "\n",
    "In [3]: number2 * 3\n",
    "Out[3]: 15\n",
    "\n",
    "Note that just as the input is numbered, the output of each command is numbered as well.\n",
    "\n",
    "<a id=\"ps\"></a>\n",
    "### 3.3 Self-contained Python scripts\n",
    "\n",
    "Running Python snippets line by line is useful in some cases, but for more complicated programs it is more convenient to save code to file, and execute it all at once.\n",
    "By convention, Python scripts are saved in files with a *.py* extension.\n",
    "For example, let's create a script called *test.py* which contains the following:\n",
    "``` python\n",
    "# file: test.py\n",
    "print(\"Running test.py\")\n",
    "number3 = 5\n",
    "print(\"Result is\", 3 * number3)\n",
    "```\n",
    "To run this file, we make sure it is in the current directory and type ``python`` *``filename``* at the command prompt:\n",
    "```\n",
    "$ python test.py\n",
    "Running test.py\n",
    "Result is 15\n",
    "```\n",
    "For more complicated programs, creating self-contained scripts like this one is a must.\n",
    "\n",
    "<a id=\"jn\"></a>\n",
    "### 3.4 The Jupyter notebook\n",
    "\n",
    "The Jupyter notebook is a browser-based graphical interface to the IPython shell, and builds on it a rich set of dynamic display capabilities.\n",
    "As well as executing Python/IPython statements, the notebook allows the user to include formatted text, static and dynamic visualizations, mathematical equations, JavaScript widgets, and much more.\n",
    "Furthermore, these documents can be saved in a way that lets other people open them and execute the code on their own systems. Further information can be seen from the [Jupyter Project](https://jupyter.org/) page.\n",
    "\n",
    "Though the IPython notebook is viewed and edited through your web browser window, it must connect to a running Python process in order to execute code.\n",
    "This process (known as a \"kernel\") can be started by running the following command in the system shell:\n",
    "\n",
    "```\n",
    "$ jupyter notebook\n",
    "```"
   ]
  },
  {
   "cell_type": "markdown",
   "metadata": {},
   "source": [
    "<a id=\"prg\"></a>\n",
    "# 4. Writing programs with Python\n"
   ]
  },
  {
   "cell_type": "markdown",
   "metadata": {},
   "source": [
    "<a id=\"vars\"></a>\n",
    "## 4.1 Data types and variables\n",
    "\n",
    "[[ Go back to the top ]](#Table-of-contents)"
   ]
  },
  {
   "cell_type": "markdown",
   "metadata": {},
   "source": [
    "• **Definition:**\n",
    "Variables in Python are containers used to store data values. They are like labeled boxes that hold information which can be referenced and manipulated throughout the program.\n",
    "\n",
    "• **Purpose:**\n",
    "The primary purpose of variables is to store and manage data in a program. They enable developers to work with and manipulate data dynamically during the execution of the program.\n",
    "\n",
    "• **Importance:**\n",
    "Variables are fundamental to programming as they allow programs to store data temporarily or permanently, perform calculations, and make decisions based on the data stored.\n",
    "\n",
    "• **Applications:**\n",
    "Variables are used extensively in almost every aspect of Python programming, including:\n",
    "\n",
    "  - Storing user input\n",
    "  - Performing calculations\n",
    "  - Iterating through data structures like lists and dictionaries\n",
    "  - Controlling program flow with conditional statements\n",
    "\n",
    "• **Strengths:**\n",
    "  - Flexibility in storing various types of data (numbers, strings, lists, etc.).\n",
    "  - Ease of use and manipulation.\n",
    "  - Facilitates dynamic behavior in programs.\n",
    "\n",
    "• **Weaknesses:**\n",
    "  - Incorrect usage can lead to logical errors (e.g., using an uninitialized variable).\n",
    "  - Global variables can introduce unintended side effects and make code harder to maintain.\n",
    "\n",
    "• **Suitable to Use:**\n",
    "Variables are suitable in virtually any Python program where data needs to be stored, manipulated, or processed dynamically.\n",
    "\n",
    "• **Input and Output:**\n",
    "Input: Data provided to the program, stored in variables.\n",
    "Output: Results computed or derived from the input data, stored or displayed using variables.\n"
   ]
  },
  {
   "cell_type": "markdown",
   "metadata": {},
   "source": [
    "• **At least 3 – 5 Examples (Not Given in the Initial Tutorial):**"
   ]
  },
  {
   "cell_type": "code",
   "execution_count": 11,
   "metadata": {},
   "outputs": [
    {
     "name": "stdout",
     "output_type": "stream",
     "text": [
      "10\n"
     ]
    }
   ],
   "source": [
    "num1 = 10\n",
    "print(num1)"
   ]
  },
  {
   "cell_type": "code",
   "execution_count": 9,
   "metadata": {},
   "outputs": [
    {
     "name": "stdout",
     "output_type": "stream",
     "text": [
      "30\n"
     ]
    }
   ],
   "source": [
    "num1 = 10\n",
    "num2 = 20\n",
    "sum = num1 + num2\n",
    "print(sum)"
   ]
  },
  {
   "cell_type": "code",
   "execution_count": 7,
   "metadata": {},
   "outputs": [
    {
     "name": "stdout",
     "output_type": "stream",
     "text": [
      "Hello, Aliyan\n"
     ]
    }
   ],
   "source": [
    "name = \"Aliyan\"\n",
    "greeting = \"Hello, \" + name\n",
    "print(greeting) "
   ]
  },
  {
   "cell_type": "markdown",
   "metadata": {},
   "source": [
    "• **At least 1 Example to Solve Real-world Problems:**"
   ]
  },
  {
   "cell_type": "code",
   "execution_count": 14,
   "metadata": {},
   "outputs": [
    {
     "name": "stdout",
     "output_type": "stream",
     "text": [
      "Total Cost: Rs.1130\n"
     ]
    }
   ],
   "source": [
    "# Input\n",
    "apple_price = 150 \n",
    "banana_price = 60  \n",
    "orange_price = 100  \n",
    "\n",
    "# Quantity\n",
    "apples = 5\n",
    "bananas = 3\n",
    "oranges = 2\n",
    "\n",
    "# Calculations\n",
    "total_cost = (apples * apple_price) + (bananas * banana_price) + (oranges * orange_price)\n",
    "\n",
    "# Output\n",
    "print(f\"Total Cost: Rs.{total_cost}\")\n"
   ]
  },
  {
   "cell_type": "markdown",
   "metadata": {},
   "source": [
    "<a id=\"nums\"></a>\n",
    "### 4.1.1 Number types\n",
    "\n",
    "[[ Go back to the top ]](#Table-of-contents)"
   ]
  },
  {
   "cell_type": "markdown",
   "metadata": {},
   "source": [
    "\n",
    "• **Definition:**\n",
    "\n",
    "\n",
    "• **Purpose:**\n",
    "The primary purpose of number types is to perform arithmetic operations and store numerical data in a program.\n",
    "\n",
    "• **Importance:**\n",
    "Number types are fundamental for performing calculations, storing quantities, and representing measurements or values in programs.\n",
    "\n",
    "• **Applications:**\n",
    "Number types are used in various scenarios in Python:\n",
    "\n",
    "  - Calculating mathematical expressions\n",
    "  - Storing measurements (e.g., length, weight)\n",
    "  - Representing quantities (e.g., counts, amounts)\n",
    "\n",
    "• **Strengths:**\n",
    "  - Support for basic arithmetic operations (addition, subtraction, multiplication, division).\n",
    "  - Efficient representation and manipulation of numeric data.\n",
    "  - Versatile use in mathematical and scientific computations.\n",
    "\n",
    "• **Weaknesses:**\n",
    "  - Limited precision with floating-point numbers can lead to rounding errors in certain calculations.\n",
    "  - Potential overflow with large integers beyond the system's capacity.\n",
    "\n",
    "• **Suitable to Use:**\n",
    "Number types are suitable in almost every Python program where numerical data needs to be processed, manipulated, or analyzed.\n",
    "\n",
    "• **Input and Output:**\n",
    "Input: Numerical values provided to the program for computation.\n",
    "Output: Results of computations or operations involving numerical data.\n",
    "\n",
    "• **At least 3 – 5 Examples (Not Given in the Initial Tutorial):**"
   ]
  },
  {
   "cell_type": "code",
   "execution_count": 20,
   "metadata": {},
   "outputs": [
    {
     "name": "stdout",
     "output_type": "stream",
     "text": [
      "Addition: 13\n",
      "Multiplication: 30\n"
     ]
    }
   ],
   "source": [
    "#Integers\n",
    "num1 = 10\n",
    "num2 = 3\n",
    "addition = num1 + num2\n",
    "multiplication = num1 * num2\n",
    "print(f\"Addition: {addition}\")\n",
    "print(f\"Multiplication: {multiplication}\")"
   ]
  },
  {
   "cell_type": "code",
   "execution_count": 21,
   "metadata": {},
   "outputs": [
    {
     "name": "stdout",
     "output_type": "stream",
     "text": [
      "Division: 3.3333333333333335\n"
     ]
    }
   ],
   "source": [
    "#Floats\n",
    "num1 = 10\n",
    "num2 = 3\n",
    "division = num1 / num2\n",
    "print(f\"Division: {division}\")"
   ]
  },
  {
   "cell_type": "code",
   "execution_count": 22,
   "metadata": {},
   "outputs": [
    {
     "name": "stdout",
     "output_type": "stream",
     "text": [
      "Exponent: 1000\n"
     ]
    }
   ],
   "source": [
    "#Exponents\n",
    "num1 = 10\n",
    "num2 = 3\n",
    "exponent = num1 ** num2\n",
    "print(f\"Exponent: {exponent}\")"
   ]
  },
  {
   "cell_type": "code",
   "execution_count": 1,
   "metadata": {},
   "outputs": [
    {
     "name": "stdout",
     "output_type": "stream",
     "text": [
      "Float conversion: 15.0\n",
      "Integer conversion: 15\n"
     ]
    }
   ],
   "source": [
    "#Type Conversion\n",
    "int_num = 15\n",
    "float_num = 15.3\n",
    "converted_float_num = float(int_num)\n",
    "converted_int_num = int(float_num)\n",
    "print(f\"Float conversion: {converted_float_num}\")\n",
    "print(f\"Integer conversion: {converted_int_num}\")"
   ]
  },
  {
   "cell_type": "markdown",
   "metadata": {},
   "source": [
    "• **At least 1 Example to Solve Real-world Problems:**"
   ]
  },
  {
   "cell_type": "code",
   "execution_count": 33,
   "metadata": {},
   "outputs": [
    {
     "name": "stdout",
     "output_type": "stream",
     "text": [
      "Subtotal: Rs.16.10\n",
      "Tax: Rs.1.13\n",
      "Total Cost: Rs.17.23\n"
     ]
    }
   ],
   "source": [
    "# Input\n",
    "apple_price = 2.50  \n",
    "banana_price = 1.20 \n",
    "tax_rate = 0.07  \n",
    "\n",
    "# Quantity\n",
    "apples = 5\n",
    "bananas = 3\n",
    "\n",
    "# Calculations\n",
    "subtotal = (apples * apple_price) + (bananas * banana_price)\n",
    "tax_amount = subtotal * tax_rate\n",
    "total_cost = subtotal + tax_amount\n",
    "\n",
    "# Output\n",
    "print(f\"Subtotal: Rs.{subtotal:.2f}\")\n",
    "print(f\"Tax: Rs.{tax_amount:.2f}\")\n",
    "print(f\"Total Cost: Rs.{total_cost:.2f}\")\n"
   ]
  },
  {
   "cell_type": "markdown",
   "metadata": {},
   "source": [
    "<a id=\"comments\"></a>\n",
    "### 4.1.2 Comments\n",
    "\n",
    "[[ Go back to the top ]](#Table-of-contents)"
   ]
  },
  {
   "cell_type": "markdown",
   "metadata": {},
   "source": [
    "\n",
    "• **Definition:**\n",
    "Comments in Python are non-executable statements that provide explanations or annotations within the source code. They are ignored by the Python interpreter during program execution.\n",
    "\n",
    "• **Purpose:**\n",
    "The primary purpose of comments is to make code more understandable for developers reading or maintaining it. They document code to explain its functionality, rationale, or usage.\n",
    "\n",
    "• **Importance:**\n",
    "Comments play a crucial role in improving code readability, facilitating collaboration among developers, and aiding in debugging and maintaining code over time.\n",
    "\n",
    "• **Applications:**\n",
    "Comments are used in various scenarios in Python:\n",
    "\n",
    "  - Documenting functions and classes to describe their purpose and usage.\n",
    "  - Providing explanations for complex algorithms or logic.\n",
    "  - Temporarily disabling code during debugging (commenting out).\n",
    "\n",
    "• **Strengths:**\n",
    "  - Enhance code readability by providing explanations and context.\n",
    "  - Aid in understanding code logic and functionality for developers unfamiliar with the code.\n",
    "  - Support team collaboration by documenting code for easier maintenance and updates.\n",
    "\n",
    "• **Weaknesses:**\n",
    "  - Over-commenting can clutter code and make it harder to read if not used judiciously.\n",
    "  - Comments can become outdated if code changes are made without updating corresponding comments.\n",
    "\n",
    "• **Suitable to Use:**\n",
    "Comments are suitable in almost every Python program where clarity and understanding of the code are important, especially in complex algorithms, shared codebases, and projects involving multiple developers.\n",
    "\n",
    "• **Input and Output:**\n",
    "Input: Comments do not directly affect input or output in Python programs but can document the interpretation and processing of input data.\n",
    "Output: Comments do not generate output; they are for human consumption and ignored by the Python interpreter.\n",
    "\n",
    "• **At least 3 – 5 Examples (Not Given in the Initial Tutorial):**"
   ]
  },
  {
   "cell_type": "code",
   "execution_count": 29,
   "metadata": {},
   "outputs": [
    {
     "name": "stdout",
     "output_type": "stream",
     "text": [
      "Sum: 30\n"
     ]
    }
   ],
   "source": [
    "#Program to add 2 Numbers\n",
    "num1 = 10\n",
    "num2 = 20\n",
    "sum = num1 + num2\n",
    "print(f\"Sum: {sum}\")"
   ]
  },
  {
   "cell_type": "code",
   "execution_count": 30,
   "metadata": {},
   "outputs": [
    {
     "name": "stdout",
     "output_type": "stream",
     "text": [
      "30\n"
     ]
    }
   ],
   "source": [
    "result = num1 + num2  # Adding variables a and b\n",
    "print(result)  "
   ]
  },
  {
   "cell_type": "code",
   "execution_count": 31,
   "metadata": {},
   "outputs": [
    {
     "name": "stdout",
     "output_type": "stream",
     "text": [
      "Sum: 30\n"
     ]
    }
   ],
   "source": [
    "\"\"\"Multi Line comments\n",
    "This program should produce output 30 when a is 10 and b is 20\n",
    "This program shows how addition is done in Python\n",
    "\"\"\"\n",
    "num1 = 10\n",
    "num2 = 20\n",
    "sum = num1 + num2\n",
    "print(f\"Sum: {sum}\")"
   ]
  },
  {
   "cell_type": "markdown",
   "metadata": {},
   "source": [
    "• **At least 1 Example to Solve Real-world Problems:**"
   ]
  },
  {
   "cell_type": "code",
   "execution_count": 39,
   "metadata": {},
   "outputs": [
    {
     "name": "stdout",
     "output_type": "stream",
     "text": [
      "Hello, Aliyan. You are 21 years old.\n"
     ]
    }
   ],
   "source": [
    "\"\"\"\n",
    "This program prints a person's'name and age.\n",
    "Methods:\n",
    "- greet(): prints a greeting message.\n",
    "\"\"\"\n",
    "#Variables\n",
    "name = \"Aliyan\"\n",
    "age = 21\n",
    "\n",
    "def greet(): #Greet function\n",
    "    print(f\"Hello, {name}. You are {age} years old.\")\n",
    "    \n",
    "greet() #Function call"
   ]
  },
  {
   "cell_type": "markdown",
   "metadata": {},
   "source": [
    "<a id=\"strings\"></a>\n",
    "### 4.1.3 Strings\n",
    "\n",
    "[[ Go back to the top ]](#Table-of-contents)"
   ]
  },
  {
   "cell_type": "markdown",
   "metadata": {},
   "source": [
    "\n",
    "\n",
    "• **Definition:**\n",
    "Strings in Python are sequences of characters enclosed in single quotes (') or double quotes (\"). They are used to represent text data and are immutable, meaning once defined, their contents cannot be changed.\n",
    "\n",
    "• **Purpose:**\n",
    "The primary purpose of strings is to store and manipulate textual data in Python programs. They are used for displaying messages, handling input/output, and processing textual information.\n",
    "\n",
    "• **Importance:**\n",
    "Strings are crucial for:\n",
    "\n",
    "  - Storing and manipulating textual data such as names, messages, and file contents.\n",
    "  - Formatting output for display to users or writing to files.\n",
    "  - Parsing and processing text-based data received from users or external sources.\n",
    "\n",
    "• **Applications:**\n",
    "Strings are used in various scenarios in Python programming:\n",
    "\n",
    "  - Displaying messages and prompts to users.\n",
    "  - Manipulating file contents (reading/writing text files).\n",
    "  - Formatting data for output in reports or interfaces.\n",
    "\n",
    "• **Strengths:**\n",
    "\n",
    "  - Versatility in handling textual data of varying lengths and formats.\n",
    "  - Support for various operations such as concatenation, slicing, and formatting.\n",
    "  - Immutable nature ensures data integrity and prevents accidental modifications.\n",
    "\n",
    "• **Weaknesses:**\n",
    "\n",
    "  - Memory inefficiency when handling large volumes of text due to immutability.\n",
    "  - Potential complexity in handling encoding issues, especially with non-ASCII characters or different character sets.\n",
    "  \n",
    "• **Suitable to Use:**\n",
    "Strings are suitable in almost every Python program where textual data needs to be managed or processed, including user interfaces, data parsing, and text-based algorithms.\n",
    "\n",
    "• **Input and Output:**\n",
    "\n",
    "Input: Strings can represent input data received from users or read from external sources (e.g., files).\n",
    "Output: Strings are used to format and display output data to users, write to output files, or format data for further processing.\n",
    "\n",
    "• **At least 3 – 5 Examples (Not Given in the Initial Tutorial):**"
   ]
  },
  {
   "cell_type": "code",
   "execution_count": 61,
   "metadata": {},
   "outputs": [
    {
     "name": "stdout",
     "output_type": "stream",
     "text": [
      "Aliyan\n"
     ]
    }
   ],
   "source": [
    "#String\n",
    "name = \"Aliyan\"\n",
    "print(name)"
   ]
  },
  {
   "cell_type": "code",
   "execution_count": 62,
   "metadata": {},
   "outputs": [
    {
     "name": "stdout",
     "output_type": "stream",
     "text": [
      "Aliyan Ul Haq\n"
     ]
    }
   ],
   "source": [
    "#Concatenation\n",
    "first_name = \"Aliyan\"\n",
    "last_name = \"Ul Haq\"\n",
    "full_name = first_name + \" \" + last_name\n",
    "print(full_name)"
   ]
  },
  {
   "cell_type": "code",
   "execution_count": 64,
   "metadata": {},
   "outputs": [
    {
     "name": "stdout",
     "output_type": "stream",
     "text": [
      "A\n"
     ]
    }
   ],
   "source": [
    "#Accessing Indexes\n",
    "name = \"Aliyan\"\n",
    "print(name[0]) \n",
    "    "
   ]
  },
  {
   "cell_type": "code",
   "execution_count": 65,
   "metadata": {},
   "outputs": [
    {
     "name": "stdout",
     "output_type": "stream",
     "text": [
      "Hello, Aliyan. You are 21 years old.\n"
     ]
    }
   ],
   "source": [
    "#Formatting\n",
    "name = \"Aliyan\"\n",
    "age = 21\n",
    "print(f\"Hello, {name}. You are {age} years old.\")\n"
   ]
  },
  {
   "cell_type": "markdown",
   "metadata": {},
   "source": [
    "• **At least 1 Example to Solve Real-world Problems:**"
   ]
  },
  {
   "cell_type": "code",
   "execution_count": 66,
   "metadata": {},
   "outputs": [
    {
     "name": "stdout",
     "output_type": "stream",
     "text": [
      "Hello Aliyan, you are 21 years old.\n"
     ]
    }
   ],
   "source": [
    "\"\"\"Displaying a message based on user input\"\"\"\n",
    "\n",
    "# Input\n",
    "name = input(\"Enter your name: \")\n",
    "age = int(input(\"Enter your age: \"))\n",
    "\n",
    "# Formatting output using formatted strings\n",
    "message = f\"Hello {name}, you are {age} years old.\"\n",
    "print(message)\n"
   ]
  },
  {
   "cell_type": "markdown",
   "metadata": {},
   "source": [
    "<a id=\"if-else\"></a>\n",
    "## 4.2 Decisions\n",
    "\n",
    "[[ Go back to the top ]](#Table-of-contents)"
   ]
  },
  {
   "cell_type": "markdown",
   "metadata": {},
   "source": [
    "\n",
    "\n",
    "• **Definition:**\n",
    "Decision statements or if-else statements in Python are control flow statements that allow you to make decisions in your code based on conditions. They execute a block of code if a specified condition is true, otherwise, they execute another block of code.\n",
    "\n",
    "• **Purpose:**\n",
    "The primary purpose of if-else statements is to control the flow of execution in a program based on specific conditions. They enable programs to make decisions and perform different actions based on the evaluation of expressions.\n",
    "\n",
    "• **Importance:**\n",
    "if-else statements are fundamental for:\n",
    "\n",
    "  - Implementing conditional logic to handle different scenarios or outcomes in a program.\n",
    "  - Controlling program flow by executing different code paths based on conditions.\n",
    "  - Facilitating decision-making processes within algorithms or user interactions.\n",
    "\n",
    "\n",
    "• **Applications:**\n",
    "if-else statements are used in various scenarios in Python programming:\n",
    "\n",
    "  - Validating user input and responding accordingly.\n",
    "  - Implementing branching logic to handle edge cases or exceptions.\n",
    "  - Filtering and processing data based on specific criteria.\n",
    "\n",
    "• **Strengths:**\n",
    "\n",
    "  - Versatility in implementing conditional logic to handle diverse scenarios.\n",
    "  - Support for complex conditions using logical operators (and, or, not).\n",
    "  - Capability to nest if-else statements for handling multiple conditions sequentially.\n",
    "\n",
    "• **Weaknesses:**\n",
    "\n",
    "  - Potential for code complexity and readability issues if nested if-else statements are overly complicated.\n",
    "  - Difficulty in maintaining and debugging code with complex conditional logic.\n",
    "\n",
    "• **Suitable to Use:**\n",
    "if-else statements are suitable in almost every Python program where decisions need to be made based on conditions, such as user inputs, data processing, and algorithmic implementations.\n",
    "\n",
    "• **Input and Output:**\n",
    "\n",
    "Input: Conditions are typically evaluated based on input data or variables within the program.\n",
    "Output: if-else statements determine the output or actions taken based on the evaluated conditions.\n",
    "\n",
    "• **At least 3 – 5 Examples (Not Given in the Initial Tutorial):**"
   ]
  },
  {
   "cell_type": "code",
   "execution_count": 67,
   "metadata": {},
   "outputs": [
    {
     "name": "stdout",
     "output_type": "stream",
     "text": [
      "x is greater than 5\n"
     ]
    }
   ],
   "source": [
    "num = 10\n",
    "if num > 5:\n",
    "    print(\"number is greater than 5\")\n",
    "else:\n",
    "    print(\"number is not greater than 5\")"
   ]
  },
  {
   "cell_type": "code",
   "execution_count": 68,
   "metadata": {},
   "outputs": [
    {
     "name": "stdout",
     "output_type": "stream",
     "text": [
      "Zero\n"
     ]
    }
   ],
   "source": [
    "num = 0\n",
    "if num > 0:\n",
    "    print(\"Positive number\")\n",
    "elif num < 0:\n",
    "    print(\"Negative number\")\n",
    "else:\n",
    "    print(\"Zero\")"
   ]
  },
  {
   "cell_type": "code",
   "execution_count": 70,
   "metadata": {},
   "outputs": [
    {
     "name": "stdout",
     "output_type": "stream",
     "text": [
      "Adult\n"
     ]
    }
   ],
   "source": [
    "age = 25\n",
    "if age >= 18:\n",
    "    if age < 21:\n",
    "        print(\"Young Adult\")\n",
    "    else:\n",
    "        print(\"Adult\")\n",
    "else:\n",
    "    print(\"Minor\")"
   ]
  },
  {
   "cell_type": "code",
   "execution_count": 71,
   "metadata": {},
   "outputs": [
    {
     "name": "stdout",
     "output_type": "stream",
     "text": [
      "Moderate temperature\n"
     ]
    }
   ],
   "source": [
    "temperature = 28\n",
    "if temperature > 30 or temperature < 0:\n",
    "    print(\"Extreme temperature\")\n",
    "else:\n",
    "    print(\"Moderate temperature\")"
   ]
  },
  {
   "cell_type": "markdown",
   "metadata": {},
   "source": [
    "• **At least 1 Example to Solve Real-world Problems:**"
   ]
  },
  {
   "cell_type": "code",
   "execution_count": 75,
   "metadata": {},
   "outputs": [
    {
     "name": "stdout",
     "output_type": "stream",
     "text": [
      "Total amount after discount: $180.00\n"
     ]
    }
   ],
   "source": [
    "\"\"\"In a real-world scenario, if-else statements can be used to\n",
    " determine eligibility for a discount based on a customer's purchase amount\"\"\"\n",
    "\n",
    "# Input\n",
    "purchase_amount = 200\n",
    "\n",
    "# Applying discount based on purchase amount\n",
    "if purchase_amount > 100:\n",
    "    discount = 10  \n",
    "else:\n",
    "    discount = 0\n",
    "\n",
    "# Calculating total amount after applying discount\n",
    "total_amount = purchase_amount - (purchase_amount * discount / 100)\n",
    "\n",
    "# Output\n",
    "print(f\"Total amount after discount: ${total_amount:.2f}\")\n"
   ]
  },
  {
   "cell_type": "markdown",
   "metadata": {},
   "source": [
    "<a id=\"rel-ops\"></a>\n",
    "## 4.2.1 Relational operators\n",
    "\n",
    "[[ Go back to the top ]](#Table-of-contents)"
   ]
  },
  {
   "cell_type": "markdown",
   "metadata": {},
   "source": [
    "\n",
    "\n",
    "• **Definition:**\n",
    "Relational operators in Python compare two values or expressions to determine their relationship in terms of equality, inequality, or relative order. Logical operators (and, or, not) are used to combine or negate conditions, producing True or False results based on the logical operations performed.\n",
    "\n",
    "• **Purpose:**\n",
    "The primary purpose of relational and logical operators is to evaluate conditions and make decisions in Python programs. They allow for complex decision-making and conditional execution based on multiple criteria.\n",
    "\n",
    "• **Importance:**\n",
    "Relational and logical operators are crucial for:\n",
    "\n",
    "  - Comparing values and determining their relationship using operators such as ==, !=, >, <, >=, <=.\n",
    "  - Combining conditions and controlling program flow using logical operators (and, or, not).\n",
    "  - Facilitating complex decision-making and conditional logic within algorithms or user interactions.\n",
    "\n",
    "• **Applications:**\n",
    "Relational and logical operators are used in various scenarios in Python programming:\n",
    "\n",
    "  - Validating multiple conditions simultaneously using logical operators (and, or).\n",
    "  - Negating conditions to alter program behavior using the not operator.\n",
    "  - Evaluating complex expressions involving both relational and logical operators.\n",
    "\n",
    "• **Strengths:**\n",
    "\n",
    "  - Versatility in combining conditions and evaluating complex expressions.\n",
    "  - Support for logical operations to handle diverse scenarios and decision-making processes.\n",
    "  - Efficiency in evaluating conditions and producing boolean results (True or False).\n",
    "\n",
    "• **Weaknesses:**\n",
    "\n",
    "  - Potential for confusion when nesting multiple conditions and operators, affecting code readability.\n",
    "  - Limitation in handling complex logical expressions that require careful consideration of operator precedence.\n",
    "\n",
    "• **Suitable to Use:**\n",
    "Relational and logical operators are suitable in almost every Python program where conditions need to be evaluated, decisions need to be made based on multiple criteria, and logical operations need to be performed.\n",
    "\n",
    "• **Input and Output:**\n",
    "\n",
    "Input: Values, expressions, or conditions to be evaluated using relational and logical operators.\n",
    "Output: Boolean (True or False) indicating the result of the evaluation or logical operation.\n",
    "\n",
    "• **At least 3 – 5 Examples (Not Given in the Initial Tutorial):**"
   ]
  },
  {
   "cell_type": "code",
   "execution_count": 89,
   "metadata": {},
   "outputs": [
    {
     "name": "stdout",
     "output_type": "stream",
     "text": [
      "Hello, Aliyan\n"
     ]
    }
   ],
   "source": [
    "name = \"Aliyan\"\n",
    "if name == \"Aliyan\":\n",
    "    print(\"Hello, Aliyan\")"
   ]
  },
  {
   "cell_type": "code",
   "execution_count": 85,
   "metadata": {},
   "outputs": [
    {
     "name": "stdout",
     "output_type": "stream",
     "text": [
      "True\n",
      "True\n",
      "True\n"
     ]
    }
   ],
   "source": [
    "num1 = 10\n",
    "num2 = 5\n",
    "num3 = 15\n",
    "print(num1 > num2 and num2 < num3) \n",
    "print(num1 > num2 or num2 > num3)   \n",
    "print(not num1 == num2)       \n"
   ]
  },
  {
   "cell_type": "code",
   "execution_count": 86,
   "metadata": {},
   "outputs": [
    {
     "name": "stdout",
     "output_type": "stream",
     "text": [
      "Eligible for loan\n"
     ]
    }
   ],
   "source": [
    "age = 25\n",
    "income = 50000\n",
    "if age >= 18 and income > 30000:\n",
    "    print(\"Eligible for loan\")\n",
    "else:\n",
    "    print(\"Not eligible for loan\")"
   ]
  },
  {
   "cell_type": "markdown",
   "metadata": {},
   "source": [
    "• **At least 1 Example to Solve Real-world Problems:**"
   ]
  },
  {
   "cell_type": "code",
   "execution_count": 88,
   "metadata": {},
   "outputs": [
    {
     "name": "stdout",
     "output_type": "stream",
     "text": [
      "Login successful\n"
     ]
    }
   ],
   "source": [
    "# Input\n",
    "username = input(\"Enter username: \")\n",
    "password = input(\"Enter password: \")\n",
    "\n",
    "# Checking login credentials\n",
    "if username == \"admin\" and password == \"password123\":\n",
    "    print(\"Login successful\")\n",
    "else:\n",
    "    print(\"Invalid credentials. Please try again.\")"
   ]
  },
  {
   "cell_type": "markdown",
   "metadata": {},
   "source": [
    "<a id=\"loops\"></a>\n",
    "## 4.3 Loops\n",
    "\n",
    "[[ Go back to the top ]](#Table-of-contents)\n"
   ]
  },
  {
   "cell_type": "markdown",
   "metadata": {},
   "source": [
    "\n",
    "\n",
    "• **Definition:**\n",
    "Loops in Python are control flow structures that iterate over a sequence of instructions multiple times until a specific condition is met. There are two main types of loops:\n",
    "\n",
    "- for loop: Iterates over a sequence (such as a list, tuple, or string) or any iterable object.\n",
    "- while loop: Repeats a block of code as long as a specified condition is true..\n",
    "\n",
    "• **Purpose:**\n",
    "The purpose of loops in Python is to automate repetitive tasks and iterate over data structures to perform operations on each element or until a condition is satisfied.\n",
    "\n",
    "• **Importance:**\n",
    "Loops are crucial for:\n",
    "\n",
    "  - Iterating through collections of data (like lists or dictionaries).\n",
    "  - Executing a block of code multiple times based on a condition.\n",
    "  - Implementing algorithms that require repeated execution of steps.\n",
    "\n",
    "• **Applications:**\n",
    "Loops are used in various scenarios in Python programming:\n",
    "\n",
    "  - Processing each item in a list or tuple using a for loop.\n",
    "  - Executing tasks until a condition changes using a while loop.\n",
    "  - Implementing iterative algorithms like searching, sorting, or data manipulation.\n",
    "\n",
    "• **Strengths:**\n",
    "\n",
    "  - Automation of repetitive tasks, reducing manual effort and code duplication.\n",
    "  - Flexibility in handling dynamic data structures and varying input sizes.\n",
    "  - Efficiency in executing operations across multiple elements or iterations.\n",
    "\n",
    "• **Weaknesses:**\n",
    "\n",
    "  - Potential for infinite loops if exit conditions are not properly defined in while loops.\n",
    "  - Overhead when processing large datasets due to repeated iterations.\n",
    "\n",
    "• **Suitable to Use:**\n",
    "Loops are suitable in scenarios where repetitive execution of code or iteration over data structures is required, such as data processing, algorithmic implementations, and automation tasks.\n",
    "\n",
    "• **Input and Output:**\n",
    "\n",
    "Input: Data structures (like lists, tuples, or strings) or conditions that control the loop execution.\n",
    "Output: Results of operations performed during each iteration or upon loop completion.\n",
    "\n",
    "• **At least 3 – 5 Examples (Not Given in the Initial Tutorial):**"
   ]
  },
  {
   "cell_type": "code",
   "execution_count": 94,
   "metadata": {},
   "outputs": [
    {
     "name": "stdout",
     "output_type": "stream",
     "text": [
      "1\n",
      "2\n",
      "3\n",
      "4\n",
      "5\n"
     ]
    }
   ],
   "source": [
    "numbers = [1, 2, 3, 4, 5]\n",
    "for num in numbers:\n",
    "    print(num)  "
   ]
  },
  {
   "cell_type": "code",
   "execution_count": 95,
   "metadata": {},
   "outputs": [
    {
     "name": "stdout",
     "output_type": "stream",
     "text": [
      "Count is 0\n",
      "Count is 1\n",
      "Count is 2\n",
      "Count is 3\n",
      "Count is 4\n"
     ]
    }
   ],
   "source": [
    "count = 0\n",
    "while count < 5:\n",
    "    print(f\"Count is {count}\")\n",
    "    count += 1  \n"
   ]
  },
  {
   "cell_type": "code",
   "execution_count": 96,
   "metadata": {},
   "outputs": [
    {
     "name": "stdout",
     "output_type": "stream",
     "text": [
      "0\n",
      "1\n",
      "2\n",
      "3\n",
      "4\n"
     ]
    }
   ],
   "source": [
    "for number in range(5):\n",
    "    print(number)"
   ]
  },
  {
   "cell_type": "markdown",
   "metadata": {},
   "source": [
    "• **At least 1 Example to Solve Real-world Problems:**"
   ]
  },
  {
   "cell_type": "code",
   "execution_count": 98,
   "metadata": {},
   "outputs": [
    {
     "name": "stdout",
     "output_type": "stream",
     "text": [
      "Total cost of items in the shopping cart: Rs.100\n"
     ]
    }
   ],
   "source": [
    "# Input\n",
    "shopping_cart = [10, 20, 30, 15, 25]  \n",
    "\n",
    "# Calculating total cost using a for loop\n",
    "total_cost = 0\n",
    "for price in shopping_cart:\n",
    "    total_cost += price\n",
    "\n",
    "# Output\n",
    "print(f\"Total cost of items in the shopping cart: Rs.{total_cost}\")\n"
   ]
  },
  {
   "cell_type": "markdown",
   "metadata": {},
   "source": [
    "<a id=\"lists\"></a>\n",
    "## 4.4 Lists\n",
    "\n",
    "[[ Go back to the top ]](#Table-of-contents)\n",
    "\n"
   ]
  },
  {
   "cell_type": "markdown",
   "metadata": {},
   "source": [
    "\n",
    "• **Definition:**\n",
    "Lists in Python are ordered collections of items or elements. They can contain any type of data, including integers, floats, strings, or even other lists. Lists are mutable, meaning their elements can be changed after they are created.\n",
    "\n",
    "• **Purpose:**\n",
    "The primary purpose of lists is to store and organize multiple items or elements in a single variable. They allow for easy access, modification, and manipulation of data.\n",
    "\n",
    "• **Importance:**\n",
    "Lists are crucial for:\n",
    "\n",
    "  - Storing and managing collections of data elements.\n",
    "  - Performing operations like adding, removing, or accessing elements.\n",
    "  - Iterating over elements to perform tasks or calculations.\n",
    "\n",
    "• **Applications:**\n",
    "Lists are used in various scenarios in Python programming:\n",
    "\n",
    "  - Storing user inputs, database records, or file contents.\n",
    "  - Implementing data structures such as queues, stacks, or matrices.\n",
    "  - Facilitating data processing, sorting, filtering, and aggregation tasks.\n",
    "\n",
    "• **Strengths:**\n",
    "\n",
    "  - Versatility in storing heterogeneous data types within a single structure.\n",
    "  - Flexibility in size and dynamic modification of elements.\n",
    "  - Support for various operations like indexing, slicing, appending, and concatenating.\n",
    "\n",
    "• **Weaknesses:**\n",
    "\n",
    "  - Potentially inefficient for large datasets due to sequential access and manipulation.\n",
    "  - Overhead in memory usage when handling nested or deeply nested lists.\n",
    "\n",
    "• **Suitable to Use:**\n",
    "Lists are suitable in almost every Python program where collections of data need to be managed, accessed, or manipulated efficiently.\n",
    "\n",
    "• **Input and Output:**\n",
    "\n",
    "Input: Elements to be added to the list, conditions to modify or access elements.\n",
    "Output: Results of operations performed on the list, such as retrieved elements, modified lists, or processed data.\n",
    "\n",
    "• **At least 3 – 5 Examples (Not Given in the Initial Tutorial):**"
   ]
  },
  {
   "cell_type": "code",
   "execution_count": 112,
   "metadata": {},
   "outputs": [
    {
     "name": "stdout",
     "output_type": "stream",
     "text": [
      "[1, 2, 3, 4, 5]\n"
     ]
    }
   ],
   "source": [
    "numbers = [1, 2, 3, 4, 5]\n",
    "print(numbers)"
   ]
  },
  {
   "cell_type": "code",
   "execution_count": 113,
   "metadata": {},
   "outputs": [
    {
     "name": "stdout",
     "output_type": "stream",
     "text": [
      "1\n"
     ]
    }
   ],
   "source": [
    "numbers = [1, 2, 3, 4, 5]\n",
    "print(numbers[0])"
   ]
  },
  {
   "cell_type": "code",
   "execution_count": 114,
   "metadata": {},
   "outputs": [
    {
     "name": "stdout",
     "output_type": "stream",
     "text": [
      "[1, 2, 10, 4, 5]\n"
     ]
    }
   ],
   "source": [
    "numbers = [1, 2, 3, 4, 5]\n",
    "numbers[2] = 10 \n",
    "print(numbers) "
   ]
  },
  {
   "cell_type": "code",
   "execution_count": 115,
   "metadata": {},
   "outputs": [
    {
     "name": "stdout",
     "output_type": "stream",
     "text": [
      "apple\n",
      "banana\n",
      "cherry\n"
     ]
    }
   ],
   "source": [
    "fruits = [\"apple\", \"banana\", \"cherry\"]\n",
    "for fruit in fruits:\n",
    "    print(fruit)"
   ]
  },
  {
   "cell_type": "code",
   "execution_count": 116,
   "metadata": {},
   "outputs": [
    {
     "name": "stdout",
     "output_type": "stream",
     "text": [
      "[1, 2, 3, 4]\n"
     ]
    }
   ],
   "source": [
    "numbers = [1, 2, 3]\n",
    "numbers.append(4)  \n",
    "print(numbers) "
   ]
  },
  {
   "cell_type": "markdown",
   "metadata": {},
   "source": [
    "• **At least 1 Example to Solve Real-world Problems:**"
   ]
  },
  {
   "cell_type": "code",
   "execution_count": 122,
   "metadata": {},
   "outputs": [
    {
     "name": "stdout",
     "output_type": "stream",
     "text": [
      "Average grade: 86.6\n"
     ]
    }
   ],
   "source": [
    "# Input\n",
    "grades = [85, 90, 78, 92, 88]\n",
    "\n",
    "# Calculating average grade\n",
    "total_sum = 0\n",
    "for grade in grades:\n",
    "    total_sum += grade\n",
    "\n",
    "average_grade = total_sum / len(grades)\n",
    "\n",
    "# Output\n",
    "print(f\"Average grade: {average_grade}\")\n"
   ]
  },
  {
   "cell_type": "markdown",
   "metadata": {},
   "source": [
    "<a id=\"sets\"></a>\n",
    "## 4.5 Sets\n",
    "\n",
    "[[ Go back to the top ]](#Table-of-contents)\n",
    "\n"
   ]
  },
  {
   "cell_type": "markdown",
   "metadata": {},
   "source": [
    "\n",
    "• **Definition:**\n",
    "\n",
    "A set in Python is an unordered collection of unique elements. It is defined by enclosing a comma-separated list of elements within curly braces {}.\n",
    "\n",
    "• **Purpose:**\n",
    "\n",
    "Sets are used to store unique items and perform mathematical set operations such as union, intersection, difference, and symmetric difference efficiently.\n",
    "\n",
    "• **Importance:**\n",
    "\n",
    "Sets are crucial in scenarios where uniqueness of elements is important and operations like membership testing or elimination of duplicates are needed.\n",
    "\n",
    "• **Applications:**\n",
    "\n",
    "Sets are commonly used in:\n",
    "\n",
    "  - Removing duplicates from a sequence.\n",
    "  - Checking membership (existence) of an element.\n",
    "  - Performing mathematical operations like intersection, union, and difference.\n",
    "  - Data cleaning and filtering tasks.\n",
    "  - Finding unique items in data.\n",
    "\n",
    "• **Strengths:**\n",
    "\n",
    "  - Fast membership testing (in operator).\n",
    "  - Efficient removal of duplicates from a sequence.\n",
    "  - Supports mathematical set operations directly (union, intersection, etc.).\n",
    "  - Immutable sets (frozenset) can be used as keys in dictionaries.\n",
    "\n",
    "• **Weaknesses:**\n",
    "\n",
    "  - Sets are unordered, so indexing and slicing operations are not supported.\n",
    "  - Sets can only contain hashable elements (immutable types like integers, floats, strings, and tuples).\n",
    "\n",
    "• **Suitable to Use:**\n",
    "\n",
    "Use sets when you need to:\n",
    "\n",
    "  - Ensure uniqueness of elements.\n",
    "  - Perform set operations like union, intersection, etc.\n",
    "  - Quickly check for membership or eliminate duplicates from data.\n",
    "\n",
    "• **Input and Output:**\n",
    "\n",
    "Input to sets can be any iterable (list, tuple, etc.),\n",
    "\n",
    "Output is a collection of unique elements.\n",
    "\n",
    "• **At least 3 – 5 Examples (Not Given in the Initial Tutorial):**"
   ]
  },
  {
   "cell_type": "code",
   "execution_count": 3,
   "metadata": {},
   "outputs": [
    {
     "name": "stdout",
     "output_type": "stream",
     "text": [
      "{1, 2, 3, 4, 5}\n"
     ]
    }
   ],
   "source": [
    "# Removing duplicates from a list\n",
    "list_with_duplicates = [1, 2, 3, 3, 4, 5, 1]\n",
    "unique_set = set(list_with_duplicates)\n",
    "print(unique_set)  "
   ]
  },
  {
   "cell_type": "code",
   "execution_count": 2,
   "metadata": {},
   "outputs": [
    {
     "name": "stdout",
     "output_type": "stream",
     "text": [
      "{1, 2, 3, 4}\n",
      "{2, 3}\n"
     ]
    }
   ],
   "source": [
    "# Set Operations\n",
    "set1 = {1, 2, 3}\n",
    "set2 = {2, 3, 4}\n",
    "\n",
    "union_set = set1 | set2  # Union\n",
    "print(union_set)  \n",
    "\n",
    "intersection_set = set1 & set2  # Intersection\n",
    "print(intersection_set) \n"
   ]
  },
  {
   "cell_type": "code",
   "execution_count": 6,
   "metadata": {},
   "outputs": [
    {
     "name": "stdout",
     "output_type": "stream",
     "text": [
      "Unique student IDs: {101, 102, 103, 104, 105, 106}\n"
     ]
    }
   ],
   "source": [
    "# Unique student ids\n",
    "\n",
    "student_ids = [101, 102, 103, 104, 102, 105, 106, 101]\n",
    "\n",
    "unique_student_ids = set(student_ids)\n",
    "\n",
    "\n",
    "print(\"Unique student IDs:\", unique_student_ids)"
   ]
  },
  {
   "cell_type": "markdown",
   "metadata": {},
   "source": [
    "• **At least 1 Example to Solve Real-world Problems:**"
   ]
  },
  {
   "cell_type": "code",
   "execution_count": 5,
   "metadata": {},
   "outputs": [
    {
     "name": "stdout",
     "output_type": "stream",
     "text": [
      "{'company.com', 'example.com'}\n"
     ]
    }
   ],
   "source": [
    "\"\"\"Suppose you have a list of email addresses collected from a survey,\n",
    " and you want to find unique domains of these addresses:\"\"\"\n",
    "\n",
    "email_list = ['alice@example.com', 'bob@example.com', 'charlie@company.com', 'alice@example.com']\n",
    "\n",
    "unique_domains = set()\n",
    "for email in email_list:\n",
    "    domain = email.split('@')[1]\n",
    "    unique_domains.add(domain)\n",
    "\n",
    "print(unique_domains)\n",
    "\n"
   ]
  },
  {
   "cell_type": "markdown",
   "metadata": {},
   "source": [
    "<a id=\"dict\"></a>\n",
    "## 4.6 Dictionaries\n",
    "\n",
    "[[ Go back to the top ]](#Table-of-contents)\n",
    "\n"
   ]
  },
  {
   "cell_type": "markdown",
   "metadata": {},
   "source": [
    "\n",
    "• **Definition:**\n",
    "\n",
    "A dictionary in Python is an unordered collection of key-value pairs. Each key is unique and maps to a corresponding value.\n",
    "\n",
    "• **Purpose:**\n",
    "\n",
    "Dictionaries are used to store and retrieve data efficiently based on keys. They are ideal for situations where quick lookup and mapping of values are required.\n",
    "\n",
    "• **Importance:**\n",
    "\n",
    "Dictionaries allow for flexible data storage and retrieval, enabling efficient handling of data relationships and associations.\n",
    "\n",
    "• **Applications:**\n",
    "\n",
    "Dictionaries are commonly used for:\n",
    "\n",
    "  - Storing settings and configurations.\n",
    "  - Mapping identifiers (keys) to values (data).\n",
    "  - Data aggregation and summarization.\n",
    "\n",
    "• **Strengths:**\n",
    "\n",
    "  - Fast lookup time for values based on keys.\n",
    "  - Support for a variety of data types as keys and values.\n",
    "  - Flexible and dynamic structure for data management.\n",
    "\n",
    "• **Weaknesses:**\n",
    "\n",
    "  - Unordered nature (prior to Python 3.7) can make iteration order unpredictable.\n",
    "  - Overhead in memory usage compared to lists for small datasets.\n",
    "\n",
    "• **Suitable to Use:**\n",
    "\n",
    "Dictionaries are suitable when:\n",
    "\n",
    "  - Data needs to be accessed or updated frequently based on unique keys.\n",
    "  - You need to map relationships between entities.\n",
    "\n",
    "• **Input and Output:**\n",
    "\n",
    "Input: Elements to be added (key-value pairs), conditions for modifying or accessing elements.\n",
    "\n",
    "Output: Results of operations like retrieving specific values, modified dictionaries, or processed data based on dictionary contents.\n",
    "\n",
    "• **At least 3 – 5 Examples (Not Given in the Initial Tutorial):**"
   ]
  },
  {
   "cell_type": "code",
   "execution_count": 7,
   "metadata": {},
   "outputs": [
    {
     "name": "stdout",
     "output_type": "stream",
     "text": [
      "{'apple': 10, 'banana': 5, 'orange': 8}\n"
     ]
    }
   ],
   "source": [
    "inventory = {\n",
    "    'apple': 10,\n",
    "    'banana': 5,\n",
    "    'orange': 8\n",
    "}\n",
    "\n",
    "print(inventory)"
   ]
  },
  {
   "cell_type": "code",
   "execution_count": 8,
   "metadata": {},
   "outputs": [],
   "source": [
    "company_sales = {\n",
    "    '2023': [55000, 60000, 48000],\n",
    "    '2022': [50000, 52000, 45000],\n",
    "    '2021': [48000, 49000, 40000]\n",
    "}"
   ]
  },
  {
   "cell_type": "code",
   "execution_count": 10,
   "metadata": {},
   "outputs": [
    {
     "name": "stdout",
     "output_type": "stream",
     "text": [
      "{'001': {'name': 'Alice', 'age': 30, 'department': 'HR'}, '002': {'name': 'Bob', 'age': 35, 'department': 'Engineering'}, '003': {'name': 'Eve', 'age': 28, 'department': 'Marketing'}}\n"
     ]
    }
   ],
   "source": [
    "# Nested Dictionaries for Complex Data Structures:\n",
    "\n",
    "employees = {\n",
    "    '001': {'name': 'Alice', 'age': 30, 'department': 'HR'},\n",
    "    '002': {'name': 'Bob', 'age': 35, 'department': 'Engineering'},\n",
    "    '003': {'name': 'Eve', 'age': 28, 'department': 'Marketing'}\n",
    "}\n",
    "\n",
    "print(employees)"
   ]
  },
  {
   "cell_type": "markdown",
   "metadata": {},
   "source": [
    "• **At least 1 Example to Solve Real-world Problems:**"
   ]
  },
  {
   "cell_type": "code",
   "execution_count": 11,
   "metadata": {},
   "outputs": [
    {
     "name": "stdout",
     "output_type": "stream",
     "text": [
      "Current Inventory:\n",
      "Laptop: 10 in stock\n",
      "Mouse: 50 in stock\n",
      "Keyboard: 30 in stock\n",
      "Monitor: 20 in stock\n",
      "Headphones: 40 in stock\n"
     ]
    }
   ],
   "source": [
    "# Inventory management\n",
    "\n",
    "inventory = {\n",
    "    'Laptop': 10,\n",
    "    'Mouse': 50,\n",
    "    'Keyboard': 30,\n",
    "    'Monitor': 20,\n",
    "    'Headphones': 40\n",
    "}\n",
    "\n",
    "print(\"Current Inventory:\")\n",
    "for product, quantity in inventory.items():\n",
    "    print(f\"{product}: {quantity} in stock\")\n"
   ]
  },
  {
   "cell_type": "markdown",
   "metadata": {},
   "source": [
    "<a id=\"tuples\"></a>\n",
    "## 4.7 Tuples\n",
    "\n",
    "[[ Go back to the top ]](#Table-of-contents)\n"
   ]
  },
  {
   "cell_type": "markdown",
   "metadata": {},
   "source": [
    "\n",
    "• **Definition:**\n",
    "\n",
    "A tuple in Python is an immutable sequence of elements, typically used to store collections of heterogeneous data. Immutable means once a tuple is created, its elements and size cannot be changed.\n",
    "\n",
    "• **Purpose:**\n",
    "\n",
    "Tuples are used to store related pieces of information together. They provide a convenient way to group multiple data elements and can be passed around as a single entity. Tuples are often used when the data should not be changed, such as configuration settings, coordinates, or database records.\n",
    "\n",
    "• **Importance:**\n",
    "\n",
    "  - Immutability: Guarantees data integrity and prevents accidental modification of critical information.\n",
    "  - Efficiency: Tuples are more memory efficient than lists, making them suitable for storing fixed-size, heterogeneous data.\n",
    "  - Use in Functions: Tuples are useful for returning multiple values from a function.\n",
    "  - Data Integrity: Ensures that the data remains unchanged once defined, which is crucial in many applications.\n",
    "\n",
    "• **Applications:**\n",
    "\n",
    "  - Data Integrity: Storing data that should not be changed, such as days of the week, configuration settings, or constants.\n",
    "  - Return Values: Returning multiple values from functions efficiently.\n",
    "  - Dictionary Keys: Tuples can be used as keys in dictionaries when they need to be stored as keys in a dictionary.\n",
    "\n",
    "• **Strengths:**\n",
    "\n",
    "  - Immutable: Data integrity and security.\n",
    "  - Performance: Faster than lists for accessing elements.\n",
    "  - Sequence Operations: Supports all sequence operations like indexing, slicing, and iteration.\n",
    "\n",
    "\n",
    "• **Weaknesses:**\n",
    "\n",
    "  - Immutability: Once created, elements cannot be changed, necessitating the creation of a new tuple for any modification.\n",
    "  - Limited Operations: Fewer methods compared to lists.\n",
    "  - Less Flexible: Not suitable for data that needs frequent modification.\n",
    "\n",
    "• **Suitable to Use:**\n",
    "\n",
    "Tuples are suitable when:\n",
    "\n",
    "  - You want to ensure the data remains constant throughout the program.\n",
    "  - Efficiency in terms of memory and access speed is critical.\n",
    "  - Data grouping where the position of each element has significance.\n",
    "\n",
    "• **Input and Output:**\n",
    "\n",
    "Input: Elements enclosed within parentheses, separated by commas (element1, element2, ...).\n",
    "\n",
    "Output: The tuple itself or specific elements accessed through indexing.\n",
    "\n",
    "• **At least 3 – 5 Examples (Not Given in the Initial Tutorial):**"
   ]
  },
  {
   "cell_type": "code",
   "execution_count": 1,
   "metadata": {},
   "outputs": [
    {
     "name": "stdout",
     "output_type": "stream",
     "text": [
      "(10, 20)\n"
     ]
    }
   ],
   "source": [
    "coordinates = (10, 20)\n",
    "print(coordinates)"
   ]
  },
  {
   "cell_type": "code",
   "execution_count": 2,
   "metadata": {},
   "outputs": [
    {
     "name": "stdout",
     "output_type": "stream",
     "text": [
      "('Monday', 'Tuesday', 'Wednesday', 'Thursday', 'Friday', 'Saturday', 'Sunday')\n"
     ]
    }
   ],
   "source": [
    "days_of_week = ('Monday', 'Tuesday', 'Wednesday', 'Thursday', 'Friday', 'Saturday', 'Sunday')\n",
    "print(days_of_week)"
   ]
  },
  {
   "cell_type": "code",
   "execution_count": 3,
   "metadata": {},
   "outputs": [
    {
     "name": "stdout",
     "output_type": "stream",
     "text": [
      "(255, 128, 0)\n"
     ]
    }
   ],
   "source": [
    "rgb_color = (255, 128, 0)\n",
    "print(rgb_color)"
   ]
  },
  {
   "cell_type": "markdown",
   "metadata": {},
   "source": [
    "• **At least 1 Example to Solve Real-world Problems:**"
   ]
  },
  {
   "cell_type": "code",
   "execution_count": 5,
   "metadata": {},
   "outputs": [
    {
     "name": "stdout",
     "output_type": "stream",
     "text": [
      "127.0.0.1 8080 True\n"
     ]
    }
   ],
   "source": [
    "config_settings = ('127.0.0.1', 8080, True)\n",
    "# Accessing individual elements\n",
    "server_address = config_settings[0]\n",
    "port = config_settings[1]\n",
    "debug_mode = config_settings[2]\n",
    "print(server_address, port, debug_mode)"
   ]
  },
  {
   "cell_type": "markdown",
   "metadata": {},
   "source": [
    "<a id=\"func\"></a>\n",
    "## 4.8 Functions\n",
    "\n",
    "[[ Go back to the top ]](#Table-of-contents)\n"
   ]
  },
  {
   "cell_type": "markdown",
   "metadata": {},
   "source": [
    "\n",
    "• **Definition:**\n",
    "\n",
    "A function in Python is a named block of code that performs a specific task or computation. Functions allow for code reusability, modular programming, and abstraction by encapsulating a set of instructions into a single unit.\n",
    "\n",
    "• **Purpose:**\n",
    "\n",
    "Functions serve several purposes in Python:\n",
    "\n",
    "  - Modularity: Breaks down programs into smaller, manageable parts.\n",
    "  - Reuse: Allows reuse of code without rewriting it.\n",
    "  - Abstraction: Hides complex implementation details from the caller.\n",
    "  - Organization: Makes code more organized and easier to understand.\n",
    "  \n",
    "• **Importance:**\n",
    "\n",
    "  - Code Reuse: Functions eliminate redundancy by allowing code to be reused across different parts of a program.\n",
    "  - Modularity: Encourages modular programming, making it easier to maintain and debug code.\n",
    "  - Abstraction: Allows complex operations to be encapsulated into a single function call, simplifying usage for other parts of the program.\n",
    "  - Readability: Enhances code readability by breaking down complex tasks into smaller, named units.\n",
    "\n",
    "• **Applications:**\n",
    "\n",
    "Functions are used in various scenarios:\n",
    "\n",
    "  - Procedural Programming: Implementing algorithms and performing specific tasks.\n",
    "  - Code Organization: Breaking down large programs into smaller, manageable pieces.\n",
    "  - Encapsulation: Grouping related operations together for easy reuse and maintenance.\n",
    "\n",
    "• **Strengths:**\n",
    "\n",
    "  - Modularity and Reusability: Promotes cleaner code by separating logic into smaller, reusable units.\n",
    "  - Abstraction: Hides complex implementation details, providing a simpler interface.\n",
    "  - Scoping: Allows for local and global variable scopes, enhancing control over data flow.\n",
    "\n",
    "• **Weaknesses:**\n",
    "\n",
    "  - Overhead: Can introduce overhead due to function call overhead, especially in performance-sensitive applications.\n",
    "  - Complexity: Poorly designed functions can lead to code that is harder to debug and maintain.\n",
    "  - Function Nesting: Excessive nesting of functions can reduce readability.\n",
    "\n",
    "• **Suitable to Use:**\n",
    "\n",
    "Functions are suitable when:\n",
    "\n",
    "  - You need to perform a specific task or calculation multiple times.\n",
    "  - Code reusability is desired.\n",
    "  - Tasks can be logically broken down into smaller, manageable parts.\n",
    "\n",
    "• **Input and Output:**\n",
    "\n",
    "Input: Arguments passed to the function when called.\n",
    "\n",
    "Output: Return value(s) from the function after execution.\n",
    "\n",
    "• **At least 3 – 5 Examples (Not Given in the Initial Tutorial):**"
   ]
  },
  {
   "cell_type": "code",
   "execution_count": 6,
   "metadata": {},
   "outputs": [
    {
     "name": "stdout",
     "output_type": "stream",
     "text": [
      "30\n"
     ]
    }
   ],
   "source": [
    "def add_numbers(num1, num2):\n",
    "    return num1 + num2\n",
    "\n",
    "print(add_numbers(10, 20))"
   ]
  },
  {
   "cell_type": "code",
   "execution_count": 7,
   "metadata": {},
   "outputs": [
    {
     "name": "stdout",
     "output_type": "stream",
     "text": [
      "120\n"
     ]
    }
   ],
   "source": [
    "def factorial(number):\n",
    "    if number == 0 or number == 1:\n",
    "        return 1\n",
    "    else:\n",
    "        return number * factorial(number - 1)\n",
    "\n",
    "print(factorial(5))"
   ]
  },
  {
   "cell_type": "code",
   "execution_count": 8,
   "metadata": {},
   "outputs": [
    {
     "name": "stdout",
     "output_type": "stream",
     "text": [
      "olleh\n"
     ]
    }
   ],
   "source": [
    "def reverse_string(s):\n",
    "    return s[::-1]\n",
    "\n",
    "print(reverse_string(\"hello\"))"
   ]
  },
  {
   "cell_type": "markdown",
   "metadata": {},
   "source": [
    "• **At least 1 Example to Solve Real-world Problems:**"
   ]
  },
  {
   "cell_type": "code",
   "execution_count": 10,
   "metadata": {},
   "outputs": [
    {
     "name": "stdout",
     "output_type": "stream",
     "text": [
      "Total bill including tax: Rs.59.92\n"
     ]
    }
   ],
   "source": [
    "def calculate_total_cost(items, tax_rate):\n",
    "    subtotal = sum(items)\n",
    "    total_cost = subtotal * (1 + tax_rate)\n",
    "    return total_cost\n",
    "\n",
    "\n",
    "cart_items = [10.99, 29.99, 14.50]\n",
    "sales_tax_rate = 0.08\n",
    "total_bill = calculate_total_cost(cart_items, sales_tax_rate)\n",
    "print(f'Total bill including tax: Rs.{total_bill:.2f}')\n"
   ]
  },
  {
   "cell_type": "markdown",
   "metadata": {},
   "source": [
    "<a id=\"lambda\"></a>\n",
    "### 4.9 Lambda Functions\n",
    "\n",
    "[[ Go back to the top ]](#Table-of-contents)\n"
   ]
  },
  {
   "cell_type": "markdown",
   "metadata": {},
   "source": [
    "\n",
    "• **Definition:**\n",
    "\n",
    "A lambda function in Python is a small anonymous function defined using the lambda keyword. Unlike regular functions defined using def, lambda functions can be used wherever function objects are required, and they are typically used for short, simple functions.\n",
    "\n",
    "• **Purpose:**\n",
    "\n",
    "Lambda functions serve the following purposes:\n",
    "\n",
    "  - Conciseness: They allow you to write functions in a more compact way compared to def functions.\n",
    "  - Simplicity: Useful for creating quick, throwaway functions without naming them.\n",
    "  - Functional Programming: Commonly used with functional programming concepts like map, filter, and reduce.\n",
    "  \n",
    "• **Importance:**\n",
    "\n",
    "  - Inline Functions: Lambda functions are used to define small, one-line functions quickly.\n",
    "  - Functional Programming: They facilitate a functional programming style by allowing functions to be passed as arguments or returned from other functions.\n",
    "  - Readability: Useful for reducing clutter in code when a full def statement would be unnecessary.\n",
    "\n",
    "• **Applications:**\n",
    "\n",
    "Lambda functions are used in scenarios where:\n",
    "\n",
    "  - A simple, short function is required.\n",
    "  - They are passed as arguments to higher-order functions like map, filter, or sorted.\n",
    "  - They are used to define small callback functions.\n",
    "\n",
    "• **Strengths:**\n",
    "\n",
    "  - Conciseness: Allows you to write functions quickly and without much boilerplate code.\n",
    "  - Functional Programming: Facilitates functional programming paradigms in Python.\n",
    "  - Immediate Use: Suitable for situations where creating a named function would be overkill\n",
    "\n",
    "• **Weaknesses:**\n",
    " \n",
    "  - Limited Functionality: Lambda functions are restricted to a single expression and cannot include statements.\n",
    "  - Readability: Overuse of lambda functions can reduce code readability, especially for complex logic.\n",
    "  - Debugging: Difficult to debug because they lack names and detailed tracebacks.\n",
    "\n",
    "• **Suitable to Use:**\n",
    "\n",
    "Lambda functions are suitable when:\n",
    "\n",
    "  - You need to define a simple function for a short period of time.\n",
    "  - The function logic is straightforward and can be expressed in a single line.\n",
    "  - They are used in combination with higher-order functions or in functional programming contexts.\n",
    "\n",
    "• **Input and Output:**\n",
    "\n",
    "Input: Lambda functions typically take one or more arguments and compute a result based on a single expression.\n",
    "\n",
    "Output: The result of the expression evaluated by the lambda function.\n",
    "\n",
    "• **At least 3 – 5 Examples (Not Given in the Initial Tutorial):**"
   ]
  },
  {
   "cell_type": "markdown",
   "metadata": {},
   "source": [
    "In the above code, note how the **lambda** expression replaces the ordinary function. Note also that there are no `return` statements in lambda functions.\n",
    "\n",
    "Another example of a lamda function as applied on lists:"
   ]
  },
  {
   "cell_type": "code",
   "execution_count": 13,
   "metadata": {},
   "outputs": [
    {
     "name": "stdout",
     "output_type": "stream",
     "text": [
      "30\n"
     ]
    }
   ],
   "source": [
    "\n",
    "num1 = 10\n",
    "num2 = 20\n",
    "add = lambda num1, num2: num1 + num2\n",
    "print(add(num1, num2))\n"
   ]
  },
  {
   "cell_type": "code",
   "execution_count": 14,
   "metadata": {},
   "outputs": [
    {
     "name": "stdout",
     "output_type": "stream",
     "text": [
      "4\n"
     ]
    }
   ],
   "source": [
    "\n",
    "number = 2\n",
    "square = lambda num: num ** 2\n",
    "print(square(number))  \n"
   ]
  },
  {
   "cell_type": "code",
   "execution_count": 15,
   "metadata": {},
   "outputs": [
    {
     "name": "stdout",
     "output_type": "stream",
     "text": [
      "[('Dave', 22), ('John', 25), ('Jane', 30)]\n"
     ]
    }
   ],
   "source": [
    "students = [('John', 25), ('Jane', 30), ('Dave', 22)]\n",
    "students_sorted = sorted(students, key=lambda student: student[1])\n",
    "print(students_sorted)"
   ]
  },
  {
   "cell_type": "markdown",
   "metadata": {},
   "source": [
    "• **At least 1 Example to Solve Real-world Problems:**"
   ]
  },
  {
   "cell_type": "code",
   "execution_count": 16,
   "metadata": {},
   "outputs": [
    {
     "name": "stdout",
     "output_type": "stream",
     "text": [
      "Total cost of the shopping cart after discounts: Rs.1160.00\n"
     ]
    }
   ],
   "source": [
    "\n",
    "shopping_cart = [\n",
    "    {'item': 'T-shirt', 'category': 'clothing', 'price': 20},\n",
    "    {'item': 'Laptop', 'category': 'electronics', 'price': 1000},\n",
    "    {'item': 'Headphones', 'category': 'electronics', 'price': 150},\n",
    "    {'item': 'Jeans', 'category': 'clothing', 'price': 50},\n",
    "    {'item': 'Socks', 'category': 'clothing', 'price': 5}\n",
    "]\n",
    "\n",
    "\n",
    "discount_rates = {\n",
    "    'clothing': 0.1,   \n",
    "    'electronics': 0.05  \n",
    "}\n",
    "\n",
    "# Lambda function to calculate discounted price of each item\n",
    "calculate_discounted_price = lambda item: item['price'] * (1 - discount_rates.get(item['category'], 0))\n",
    "\n",
    "# Calculate total cost of the shopping cart after discounts\n",
    "total_cost = sum(calculate_discounted_price(item) for item in shopping_cart)\n",
    "\n",
    "\n",
    "print(f'Total cost of the shopping cart after discounts: Rs.{total_cost:.2f}')\n"
   ]
  },
  {
   "cell_type": "markdown",
   "metadata": {},
   "source": [
    "<a id=\"Map\"></a>\n",
    "### 4.9.1 Map Function\n",
    "\n",
    "[[ Go back to the top ]](#Table-of-contents)\n"
   ]
  },
  {
   "cell_type": "markdown",
   "metadata": {},
   "source": [
    "\n",
    "• **Definition:**\n",
    "\n",
    "The map function in Python applies a given function to each item of an iterable (like a list, tuple, etc.) and returns a map object (an iterator) that yields the results.\n",
    "\n",
    "• **Purpose:**\n",
    "\n",
    "The primary purpose of map is to apply a function to every item in an iterable and return an iterator for retrieving the results. It's used to avoid explicit loops and make code more concise and readable.\n",
    "\n",
    "• **Importance:**\n",
    "\n",
    "  - Conciseness: map reduces the need for explicit loops, making code cleaner and more readable.\n",
    "  - Efficiency: It's often more efficient than manual iteration in terms of both performance and coding effort.\n",
    "  - Functional Programming: Facilitates functional programming constructs by enabling operations like mapping functions onto data.\n",
    "\n",
    "• **Applications:**\n",
    "\n",
    "  - Transforming Data: Applying a function to each element of a list, tuple, or other iterable.\n",
    "  - Applying Operations: Common in functional programming paradigms.\n",
    "  - Preprocessing: Useful for data preprocessing tasks where each element needs to undergo the same operation.\n",
    "\n",
    "• **Strengths:**\n",
    "\n",
    "  - Readability: Makes code more readable by abstracting away the looping mechanism.\n",
    "  - Ease of Use: Simplifies the application of functions to each element.\n",
    "  - Versatility: Works with any iterable and any function that can take one argument.\n",
    "\n",
    "• **Weaknesses:**\n",
    "\n",
    "  - Memory Usage: Creates an entire iterator in memory, which may not be efficient for large datasets compared to generators.\n",
    "  - Limited Parallelism: It's inherently sequential and doesn't support parallel processing out of the box.\n",
    "  - Type Safety: Doesn't perform type checking on inputs, which can lead to unexpected behavior with certain inputs.\n",
    "\n",
    "• **Suitable to Use:**\n",
    "\n",
    "Use map when:\n",
    "\n",
    "  - You need to apply a function uniformly to every element of an iterable.\n",
    "  - You want to avoid writing explicit loops for clarity.\n",
    "  - Transforming data in a functional programming style is preferable.\n",
    "\n",
    "• **Input and Output:**\n",
    "\n",
    "Input: An iterable (list, tuple, etc.) and a function that takes one argument.\n",
    "\n",
    "Output: An iterator that yields the result of applying the function to each element of the iterable.\n",
    "\n",
    "• **At least 3 – 5 Examples (Not Given in the Initial Tutorial):**"
   ]
  },
  {
   "cell_type": "code",
   "execution_count": 17,
   "metadata": {},
   "outputs": [
    {
     "name": "stdout",
     "output_type": "stream",
     "text": [
      "[2, 4, 6, 8, 10]\n"
     ]
    }
   ],
   "source": [
    "numbers = [1, 2, 3, 4, 5]\n",
    "doubled = list(map(lambda x: x * 2, numbers))\n",
    "print(doubled)  "
   ]
  },
  {
   "cell_type": "code",
   "execution_count": 18,
   "metadata": {},
   "outputs": [
    {
     "name": "stdout",
     "output_type": "stream",
     "text": [
      "[1, 2, 3, 4, 5]\n"
     ]
    }
   ],
   "source": [
    "strings = ['1', '2', '3', '4', '5']\n",
    "integers = list(map(int, strings))\n",
    "print(integers)"
   ]
  },
  {
   "cell_type": "code",
   "execution_count": 19,
   "metadata": {},
   "outputs": [
    {
     "name": "stdout",
     "output_type": "stream",
     "text": [
      "[1, 4, 9, 16, 25]\n"
     ]
    }
   ],
   "source": [
    "def square(x):\n",
    "    return x ** 2\n",
    "\n",
    "numbers = [1, 2, 3, 4, 5]\n",
    "squared = list(map(square, numbers))\n",
    "print(squared) "
   ]
  },
  {
   "cell_type": "markdown",
   "metadata": {},
   "source": [
    "• **At least 1 Example to Solve Real-world Problems:**"
   ]
  },
  {
   "cell_type": "code",
   "execution_count": 20,
   "metadata": {},
   "outputs": [
    {
     "name": "stdout",
     "output_type": "stream",
     "text": [
      "[115.0, 230.0, 345.0, 460.0, 575.0]\n"
     ]
    }
   ],
   "source": [
    "def calculate_tax(amount, tax_rate):\n",
    "    return amount * tax_rate\n",
    "\n",
    "invoices = [100, 200, 300, 400, 500]\n",
    "tax_rate = 0.15\n",
    "total_with_tax = list(map(lambda amount: amount + calculate_tax(amount, tax_rate), invoices))\n",
    "print(total_with_tax)"
   ]
  },
  {
   "cell_type": "markdown",
   "metadata": {},
   "source": [
    "<a id=\"filter\"></a>\n",
    "### 4.9.2 Filter Function\n",
    "\n",
    "[[ Go back to the top ]](#Table-of-contents)"
   ]
  },
  {
   "cell_type": "markdown",
   "metadata": {},
   "source": [
    "\n",
    "• **Definition:**\n",
    "\n",
    "The filter function in Python constructs an iterator from elements of an iterable (like a list) for which a function returns true. It filters out elements based on whether the function's condition is met.\n",
    "\n",
    "• **Purpose:**\n",
    "\n",
    "The primary purpose of filter is to selectively return elements from an iterable based on a condition, reducing the need for manual iteration and conditional checks.\n",
    "\n",
    "• **Importance:**\n",
    "\n",
    "  - Selective Filtering: Allows efficient extraction of elements that satisfy a specific condition.\n",
    "  - Readable Code: Improves code readability by focusing on the filtering condition rather than the iteration process.\n",
    "  - Functional Programming: Supports functional programming paradigms by enabling operations on data without explicit loops.\n",
    "\n",
    "• **Applications:**\n",
    "\n",
    "  - Data Filtering: Selecting elements from a list that meet certain criteria.\n",
    "  - Removing Unwanted Data: Filtering out elements that don't meet specified conditions.\n",
    "  - Preprocessing Data: Useful in data preprocessing pipelines where selective data handling is required.\n",
    "\n",
    "• **Strengths:**\n",
    "\n",
    "  - Readability: Makes code more readable and expressive by focusing on filtering criteria.\n",
    "  - Efficiency: Typically more efficient than manual iteration and conditional checks.\n",
    "  - Functional Style: Fits well with functional programming principles.\n",
    "\n",
    "• **Weaknesses:**\n",
    "\n",
    "  - Limited Functionality: Limited to simple filtering tasks and doesn't handle complex conditions without additional logic.\n",
    "  - Memory Usage: Similar to map, it creates an entire iterator in memory which might not be efficient for large datasets.\n",
    "  - Type Safety: Like map, doesn't perform type checking on inputs.\n",
    "\n",
    "• **Suitable to Use:**\n",
    "\n",
    "Use filter when:\n",
    "\n",
    "  - You need to selectively extract elements from an iterable based on a condition.\n",
    "  - You want to avoid writing explicit loops for filtering tasks.\n",
    "  - Functional programming style is preferred for data manipulation.\n",
    "\n",
    "• **Input and Output:**\n",
    "\n",
    "Input: An iterable (list, tuple, etc.) and a function that returns a boolean value.\n",
    "\n",
    "Output: An iterator that yields elements from the iterable for which the function returns True.\n",
    "\n",
    "• **At least 3 – 5 Examples (Not Given in the Initial Tutorial):**"
   ]
  },
  {
   "cell_type": "code",
   "execution_count": 21,
   "metadata": {},
   "outputs": [
    {
     "name": "stdout",
     "output_type": "stream",
     "text": [
      "[2, 4, 6, 8, 10]\n"
     ]
    }
   ],
   "source": [
    "numbers = [1, 2, 3, 4, 5, 6, 7, 8, 9, 10]\n",
    "evens = list(filter(lambda x: x % 2 == 0, numbers))\n",
    "print(evens)  "
   ]
  },
  {
   "cell_type": "code",
   "execution_count": 22,
   "metadata": {},
   "outputs": [
    {
     "name": "stdout",
     "output_type": "stream",
     "text": [
      "['hello', 'world']\n"
     ]
    }
   ],
   "source": [
    "strings = ['', 'hello', '', 'world', '', '']\n",
    "non_empty = list(filter(lambda x: x != '', strings))\n",
    "print(non_empty) "
   ]
  },
  {
   "cell_type": "code",
   "execution_count": 23,
   "metadata": {},
   "outputs": [
    {
     "name": "stdout",
     "output_type": "stream",
     "text": [
      "[4, 5, 10]\n"
     ]
    }
   ],
   "source": [
    "numbers = [-3, 4, -1, 0, 5, -2, 10]\n",
    "positives = list(filter(lambda x: x > 0, numbers))\n",
    "print(positives) "
   ]
  },
  {
   "cell_type": "markdown",
   "metadata": {},
   "source": [
    "• **At least 1 Example to Solve Real-world Problems:**"
   ]
  },
  {
   "cell_type": "code",
   "execution_count": 24,
   "metadata": {},
   "outputs": [
    {
     "name": "stdout",
     "output_type": "stream",
     "text": [
      "['alice@example.com', 'charlie@example.com']\n"
     ]
    }
   ],
   "source": [
    "def is_valid_email(email):\n",
    "    return '@' in email\n",
    "\n",
    "emails = ['alice@example.com', 'bob', 'charlie@example.com', 'dave']\n",
    "valid_emails = list(filter(is_valid_email, emails))\n",
    "print(valid_emails)\n"
   ]
  },
  {
   "cell_type": "markdown",
   "metadata": {},
   "source": [
    "<a id=\"io\"></a>\n",
    "## 5.0 File Input / Output (I/O)\n",
    "\n",
    "[[ Go back to the top ]](#Table-of-contents)"
   ]
  },
  {
   "cell_type": "markdown",
   "metadata": {},
   "source": [
    "\n",
    "• **Definition:**\n",
    "\n",
    "File input/output (I/O) in Python refers to the process of reading data from or writing data to files on the disk. It involves operations such as opening files, reading their contents, writing data to them, and closing them.\n",
    "\n",
    "• **Purpose:**\n",
    "\n",
    "The primary purpose of file I/O operations in Python is to manipulate data stored in files. This is crucial for tasks like reading configuration files, processing large datasets, logging information, and storing outputs.\n",
    "\n",
    "• **Importance:**\n",
    "\n",
    "  - Data Persistence: Allows data to be stored persistently on disk.\n",
    "  - Integration with External Systems: Enables interaction with external files and systems.\n",
    "  - Data Processing: Facilitates reading, writing, and manipulation of data in various formats.\n",
    "\n",
    "• **Applications:**\n",
    "\n",
    "  - Reading Configuration Files: Loading settings and configurations for applications.\n",
    "  - Data Processing: Analyzing large datasets stored in files.\n",
    "  - Logging: Recording application events and errors to files.\n",
    "\n",
    "• **Strengths:**\n",
    "\n",
    "  - Versatility: Supports various file formats and modes (read, write, append).\n",
    "  - Integration: Seamlessly integrates with Python's data structures and libraries.\n",
    "  - Flexibility: Offers control over how data is read, processed, and stored.\n",
    "\n",
    "• **Weaknesses:**\n",
    "\n",
    "  - Error Handling: Requires explicit error handling to manage exceptions during file operations.\n",
    "  - Performance: Can be slower compared to in-memory operations for large datasets.\n",
    "  - Security: Handling sensitive data requires careful management to prevent unauthorized access.\n",
    "\n",
    "• **Suitable to Use:**\n",
    "\n",
    "File I/O operations are suitable when:\n",
    "\n",
    "  - Persistent storage of data is necessary.\n",
    "  - Interaction with external files or systems is required.\n",
    "  - Handling large datasets that cannot fit into memory.\n",
    "\n",
    "• **Input and Output:**\n",
    "\n",
    "Input: Files on disk (text files, binary files, etc.) containing data.\n",
    "\n",
    "Output: Manipulated data written back to files or displayed to the user.\n",
    "\n",
    "\n",
    "• **At least 3 – 5 Examples (Not Given in the Initial Tutorial):**"
   ]
  },
  {
   "cell_type": "code",
   "execution_count": null,
   "metadata": {},
   "outputs": [],
   "source": [
    "# Reading from a file\n",
    "with open('example.txt', 'r') as file:\n",
    "    content = file.read()\n",
    "    print(content)"
   ]
  },
  {
   "cell_type": "code",
   "execution_count": null,
   "metadata": {},
   "outputs": [],
   "source": [
    "# Writing to a file\n",
    "with open('output.txt', 'w') as file:\n",
    "    file.write('Hello, world!')\n"
   ]
  },
  {
   "cell_type": "code",
   "execution_count": null,
   "metadata": {},
   "outputs": [],
   "source": [
    "# Appending to a file\n",
    "with open('output.txt', 'a') as file:\n",
    "    file.write('\\nAppending new line.')\n"
   ]
  },
  {
   "cell_type": "markdown",
   "metadata": {},
   "source": [
    "• **At least 1 Example to Solve Real-world Problems:**"
   ]
  },
  {
   "cell_type": "code",
   "execution_count": null,
   "metadata": {},
   "outputs": [],
   "source": [
    "\n",
    "input_file = 'names.txt'\n",
    "output_file = 'filtered_names.txt'\n",
    "\n",
    "def filter_names_starting_with(names, letter):\n",
    "    filtered_names = [name for name in names if name.startswith(letter)]\n",
    "    return filtered_names\n",
    "\n",
    "with open(input_file, 'r') as file:\n",
    "    names = file.read().splitlines()\n",
    "\n",
    "filtered_names = filter_names_starting_with(names, 'B')\n",
    "\n",
    "with open(output_file, 'w') as file:\n",
    "    for name in filtered_names:\n",
    "        file.write(name + '\\n')\n",
    "\n",
    "print(f\"Filtered names starting with 'B' have been written to {output_file}\")\n"
   ]
  },
  {
   "cell_type": "code",
   "execution_count": 130,
   "metadata": {},
   "outputs": [
    {
     "name": "stdout",
     "output_type": "stream",
     "text": [
      "Read string is:  Demo file \n",
      "Current position is:  10\n",
      "Read string is:  Demo file for file i/o.\n",
      "\n",
      "Pytho\n"
     ]
    }
   ],
   "source": [
    "infile = open(\"input.txt\", \"r\")\n",
    "\n",
    "str = infile.read(10)   #read the first 10 characters\n",
    "print(\"Read string is: \", str)\n",
    "    \n",
    "pos = infile.tell()    #get the current position\n",
    "print(\"Current position is: \", pos)\n",
    "\n",
    "pos = infile.seek(0, 0)   #reposition the pointer at the beginning of the file\n",
    "str = infile.read(30)\n",
    "\n",
    "print(\"Read string is: \", str)\n",
    "    \n",
    "infile.close()"
   ]
  },
  {
   "cell_type": "markdown",
   "metadata": {},
   "source": [
    "<a id=\"pandas\"></a>\n",
    "## 5. Introduction to Pandas\n",
    "\n",
    "[[ Go back to the top ]](#Table-of-contents)\n",
    "\n",
    "Pandas is an open source Python library for data analysis. It gives Python the ability to work with spreadsheet-like data for fast data loading, manipulating, aligning, merging, etc. To give Python these enhanced features, Pandas introduces two new data types to Python: **Series** and **DataFrame**. The **DataFrame** will represent your entire spreadsheet or rectangular data, whereas the **Series** is a single column of the **DataFrame**. A Pandas **DataFrame** can also be thought of as a dictionary or collection of **Series**.\n",
    "\n",
    "pandas is often used in tandem with numerical computing tools like `NumPy` and `SciPy`, analytical libraries like `statsmodels` and `scikit-learn`, and data visualization libraries like `matplotlib`. pandas adopts significant parts of NumPy’s idiomatic style of array-based computing, especially array-based functions and a preference for data processing without for loops.\n",
    "\n",
    "While pandas adopts many coding idioms from `NumPy`, the biggest difference is that pandas is designed for working with tabular or heterogeneous data. `NumPy`, by contrast, is best suited for working with homogeneous numerical array data.\n",
    "\n",
    "<a id=\"pandas-install\"></a>\n",
    "### 5.1 Installation\n",
    "\n",
    "[[ Go back to the top ]](#Table-of-contents)\n",
    "\n",
    "Installation of Pandas on your system requires `NumPy` to be installed. The easiest and most general way to install the pandas library is to use a prepackaged solution, i.e., installing it through an Anaconda. If you have already installed Anaconda, no additional installtion is required.\n",
    "\n",
    "<a id=\"load\"></a>\n",
    "### 5.2 Getting started with pandas\n",
    "\n",
    "[[ Go back to the top ]](#Table-of-contents)\n",
    "\n",
    "When given a data set, we first load it and begin looking at its structure and contents. The simplest way of looking at a data set is to look and subset specific rows and columns. We can see what type of information is stored in each column, and can start looking for patterns by aggregating descriptive statistics.\n",
    "\n",
    "Since Pandas is not part of the Python standard library, we have to first tell Python to load (import) the library and check the version:"
   ]
  },
  {
   "cell_type": "code",
   "execution_count": 38,
   "metadata": {},
   "outputs": [
    {
     "data": {
      "text/plain": [
       "'2.2.2'"
      ]
     },
     "execution_count": 38,
     "metadata": {},
     "output_type": "execute_result"
    }
   ],
   "source": [
    "import pandas as pd\n",
    "pd.__version__"
   ]
  },
  {
   "cell_type": "markdown",
   "metadata": {},
   "source": [
    "Just as we generally import `NumPy` under the alias ``np``, we will import Pandas under the alias ``pd``."
   ]
  },
  {
   "cell_type": "markdown",
   "metadata": {},
   "source": [
    "<a id=\"pandas-ds\"></a>\n",
    "### 5.3 Introduction to pandas data structures\n",
    "\n",
    "[[ Go back to the top ]](#Table-of-contents)\n",
    "\n",
    "The heart of pandas is the two primary data structures on which all transactions, which are generally made during the analysis of data, are centralized: \n",
    "-  Series\n",
    "-  Dataframes\n",
    "\n"
   ]
  },
  {
   "cell_type": "markdown",
   "metadata": {},
   "source": [
    "\n",
    "<a id=\"series-np\"></a>\n",
    "## 5.3.1 Series \n",
    "[[ Go back to the top ]](#Table-of-contents)"
   ]
  },
  {
   "cell_type": "markdown",
   "metadata": {},
   "source": [
    "\n",
    "• **Definition:**\n",
    "\n",
    "In pandas, a Series is a one-dimensional labeled array capable of holding data of various types (integer, float, string, etc.). It's similar to a column in a spreadsheet or a SQL table's column.\n",
    "\n",
    "• **Purpose:**\n",
    "\n",
    "The primary purpose of a Series in pandas is to store and manipulate data efficiently, providing powerful data analysis capabilities similar to arrays and lists but with additional features like labeled indexing.\n",
    "\n",
    "• **Importance:**\n",
    "\n",
    "  - Data Organization: Helps organize and manipulate data effectively.\n",
    "  - Integration with DataFrames: Forms the basic building block for DataFrame operations.\n",
    "  - Data Analysis: Supports various data analysis and manipulation tasks with ease.\n",
    "\n",
    "• **Applications:**\n",
    "\n",
    "  - Data Cleaning: Handling missing values, converting data types, etc.\n",
    "  - Data Transformation: Applying functions and operations to data elements.\n",
    "  - Data Analysis: Summarizing, grouping, and visualizing data.\n",
    "\n",
    "• **Strengths:**\n",
    "\n",
    "  - Flexible Indexing: Supports both integer and label-based indexing.\n",
    "  - Vectorized Operations: Efficiently applies operations to entire arrays of data.\n",
    "  - Integration with pandas Ecosystem: Seamlessly integrates with DataFrame operations.\n",
    "\n",
    "• **Weaknesses:**\n",
    "\n",
    "  - Performance: Operations involving large Series can sometimes be slower compared to native Python lists for simple operations.\n",
    "  - Memory Usage: May consume more memory for large datasets compared to raw arrays due to additional metadata.\n",
    "\n",
    "• **Suitable to Use:**\n",
    "\n",
    "Series in pandas are suitable when:\n",
    "\n",
    "  - You need labeled data with flexible indexing.\n",
    "  - You want to perform complex data manipulations and calculations efficiently.\n",
    "  - Integration with DataFrame operations is required.\n",
    "\n",
    "• **Input and Output:**\n",
    "\n",
    "Input: Series object containing data.\n",
    "\n",
    "Output: Results of operations applied to the Series.\n",
    "\n",
    "\n",
    "• **At least 3 – 5 Examples (Not Given in the Initial Tutorial):**"
   ]
  },
  {
   "cell_type": "code",
   "execution_count": 29,
   "metadata": {},
   "outputs": [
    {
     "name": "stdout",
     "output_type": "stream",
     "text": [
      "0    1\n",
      "1    2\n",
      "2    3\n",
      "3    4\n",
      "4    5\n",
      "dtype: int64\n"
     ]
    }
   ],
   "source": [
    "import pandas as pd\n",
    "\n",
    "data = [1, 2, 3, 4, 5]\n",
    "series = pd.Series(data)\n",
    "print(series)\n"
   ]
  },
  {
   "cell_type": "code",
   "execution_count": 30,
   "metadata": {},
   "outputs": [
    {
     "name": "stdout",
     "output_type": "stream",
     "text": [
      "3    4\n",
      "4    5\n",
      "dtype: int64\n"
     ]
    }
   ],
   "source": [
    "\n",
    "filtered = series[series > 3]\n",
    "print(filtered)\n"
   ]
  },
  {
   "cell_type": "code",
   "execution_count": 31,
   "metadata": {},
   "outputs": [
    {
     "name": "stdout",
     "output_type": "stream",
     "text": [
      "0     2\n",
      "1     4\n",
      "2     6\n",
      "3     8\n",
      "4    10\n",
      "dtype: int64\n"
     ]
    }
   ],
   "source": [
    "# Applying a function to double each element\n",
    "doubled = s.apply(lambda x: x * 2)\n",
    "print(doubled)\n"
   ]
  },
  {
   "cell_type": "markdown",
   "metadata": {},
   "source": [
    "• **At least 1 Example to Solve Real-world Problems:**"
   ]
  },
  {
   "cell_type": "code",
   "execution_count": 32,
   "metadata": {},
   "outputs": [
    {
     "name": "stdout",
     "output_type": "stream",
     "text": [
      "Total sales: Rs.7000\n"
     ]
    }
   ],
   "source": [
    "import pandas as pd\n",
    "\n",
    "sales_data = pd.Series([1000, 1500, 2000, 2500], index=['Jan', 'Feb', 'Mar', 'Apr'])\n",
    "\n",
    "total_sales = sales_data.sum()\n",
    "\n",
    "print(f\"Total sales: Rs.{total_sales}\")\n"
   ]
  },
  {
   "cell_type": "markdown",
   "metadata": {},
   "source": [
    "<a id=\"df\"></a>\n",
    "## 5.3.2 The Pandas DataFrame object\n",
    "\n",
    "[[ Go back to the top ]](#Table-of-contents)\n"
   ]
  },
  {
   "cell_type": "markdown",
   "metadata": {},
   "source": [
    "\n",
    "• **Definition:**\n",
    "\n",
    "In pandas, a DataFrame is a two-dimensional labeled data structure with columns of potentially different types. It can be thought of as a table in a relational database or an Excel spreadsheet.\n",
    "\n",
    "• **Purpose:**\n",
    "\n",
    "The primary purpose of a DataFrame in pandas is to store and manipulate data efficiently, providing powerful data analysis capabilities similar to databases or spreadsheets but with additional functionality for data manipulation and analysis.\n",
    "\n",
    "• **Importance:**\n",
    "\n",
    "  - Data Organization: Helps organize and manipulate structured data effectively.\n",
    "  - Integration with Series: Allows operations on entire columns (Series) efficiently.\n",
    "  - Data Analysis: Supports various data analysis tasks including filtering, aggregation, and visualization.\n",
    "\n",
    "• **Applications:**\n",
    "\n",
    "  - Data Cleaning: Handling missing values, converting data types, etc.\n",
    "  - Data Transformation: Applying functions and operations to columns and rows.\n",
    "  - Data Analysis and Visualization: Summarizing, grouping, and visualizing data.\n",
    "\n",
    "• **Strengths:**\n",
    "\n",
    "  - Flexibility: Allows operations on rows and columns with labeled indexing.\n",
    "  - Efficiency: Optimized for performance with vectorized operations.\n",
    "  - Integration: Seamless integration with other libraries for data analysis and visualization.\n",
    "\n",
    "• **Weaknesses:**\n",
    "\n",
    "  - Memory Usage: Consumes more memory compared to raw arrays for large datasets due to additional metadata.\n",
    "  - Performance: Complex operations on large DataFrames can be slower compared to specialized databases for large-scale data.\n",
    "\n",
    "• **Suitable to Use:**\n",
    "\n",
    "DataFrames in pandas are suitable when:\n",
    "\n",
    "  - Structured data needs to be analyzed, manipulated, and visualized.\n",
    "  - Operations on columns and rows are required for data preprocessing and analysis.\n",
    "  - Integration with other data analysis and visualization tools is necessary.\n",
    "\n",
    "• **Input and Output:**\n",
    "\n",
    "Input: DataFrame object containing structured data.\n",
    "\n",
    "Output: Results of operations applied to the DataFrame (filtered data, aggregated results, visualizations).\n",
    "\n",
    "\n",
    "• **At least 3 – 5 Examples (Not Given in the Initial Tutorial):**"
   ]
  },
  {
   "cell_type": "code",
   "execution_count": 33,
   "metadata": {},
   "outputs": [
    {
     "name": "stdout",
     "output_type": "stream",
     "text": [
      "      Name  Age         City\n",
      "0    Alice   25     New York\n",
      "1      Bob   30  Los Angeles\n",
      "2  Charlie   35      Chicago\n",
      "3    David   40      Houston\n",
      "4      Eve   45       Boston\n"
     ]
    }
   ],
   "source": [
    "import pandas as pd\n",
    "\n",
    "# Creating a DataFrame from a dictionary\n",
    "data = {'Name': ['Alice', 'Bob', 'Charlie', 'David', 'Eve'],\n",
    "        'Age': [25, 30, 35, 40, 45],\n",
    "        'City': ['New York', 'Los Angeles', 'Chicago', 'Houston', 'Boston']}\n",
    "df = pd.DataFrame(data)\n",
    "print(df)\n"
   ]
  },
  {
   "cell_type": "code",
   "execution_count": 34,
   "metadata": {},
   "outputs": [
    {
     "name": "stdout",
     "output_type": "stream",
     "text": [
      "      Name  Age     City\n",
      "2  Charlie   35  Chicago\n",
      "3    David   40  Houston\n",
      "4      Eve   45   Boston\n"
     ]
    }
   ],
   "source": [
    "# Filtering rows where Age is greater than 30\n",
    "filtered_df = df[df['Age'] > 30]\n",
    "print(filtered_df)\n"
   ]
  },
  {
   "cell_type": "code",
   "execution_count": 35,
   "metadata": {},
   "outputs": [
    {
     "name": "stdout",
     "output_type": "stream",
     "text": [
      "Mean Age: 35.0\n"
     ]
    }
   ],
   "source": [
    "# Calculating mean age\n",
    "mean_age = df['Age'].mean()\n",
    "print(f\"Mean Age: {mean_age}\")\n"
   ]
  },
  {
   "cell_type": "markdown",
   "metadata": {},
   "source": [
    "• **At least 1 Example to Solve Real-world Problems:**"
   ]
  },
  {
   "cell_type": "code",
   "execution_count": 37,
   "metadata": {},
   "outputs": [
    {
     "name": "stdout",
     "output_type": "stream",
     "text": [
      "Total Sales: Rs.7000\n"
     ]
    }
   ],
   "source": [
    "import pandas as pd\n",
    "\n",
    "data = {'Product': ['A', 'B', 'C', 'D'],\n",
    "        'Sales': [1000, 1500, 2000, 2500]}\n",
    "sales_df = pd.DataFrame(data)\n",
    "\n",
    "total_sales = sales_df['Sales'].sum()\n",
    "\n",
    "print(f\"Total Sales: Rs.{total_sales}\")\n"
   ]
  }
 ],
 "metadata": {
  "kernelspec": {
   "display_name": "Python 3",
   "language": "python",
   "name": "python3"
  },
  "language_info": {
   "codemirror_mode": {
    "name": "ipython",
    "version": 3
   },
   "file_extension": ".py",
   "mimetype": "text/x-python",
   "name": "python",
   "nbconvert_exporter": "python",
   "pygments_lexer": "ipython3",
   "version": "3.12.2"
  }
 },
 "nbformat": 4,
 "nbformat_minor": 1
}
